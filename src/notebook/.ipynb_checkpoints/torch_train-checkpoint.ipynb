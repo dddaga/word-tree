{
 "cells": [
  {
   "cell_type": "code",
   "execution_count": 60,
   "metadata": {},
   "outputs": [],
   "source": [
    "import torch\n",
    "import numpy as np\n",
    "import pymongo\n",
    "import pandas as pd"
   ]
  },
  {
   "cell_type": "code",
   "execution_count": 129,
   "metadata": {},
   "outputs": [],
   "source": [
    "CONTEXT_DIMENSIN   = 75\n",
    "CONTEXT_DECAY      = 0.5\n",
    "CONTRASTIVE_WEIGHT = 0.1\n",
    "LEANING_RATE       = 1\n",
    "DROPOUT            = 0.1\n"
   ]
  },
  {
   "cell_type": "code",
   "execution_count": null,
   "metadata": {},
   "outputs": [],
   "source": [
    "myclient = pymongo.MongoClient('mongodb://localhost:27017')\n",
    "mydb = myclient[\"mydatabase\"]\n",
    "collection = mydb.p_and_p\n"
   ]
  },
  {
   "cell_type": "code",
   "execution_count": 52,
   "metadata": {},
   "outputs": [],
   "source": [
    "\n",
    "def get_ngram(indices, window_size=2):\n",
    "    ngrams = []\n",
    "    count = 0\n",
    "    for token in indices[:len(indices)-window_size+1]:\n",
    "        ngrams.append(indices[count:count+window_size])\n",
    "        count = count+1\n",
    "    return ngrams\n",
    "\n",
    "\n",
    "\n",
    "def touch_connection_db(collection, word_1, word_2):\n",
    "    find_connection = collection.find_one({'word': word_1, 'connection': word_2})\n",
    "    if find_connection is None:\n",
    "        # print('connection {} {} is new'.format(word_1,word_2))\n",
    "        context_vector = np.random.rand(CONTEXT_DIMENSIN)\n",
    "        unit_context_vector = context_vector / np.linalg.norm(context_vector)\n",
    "        connection = {'word': word_1,\n",
    "                      'connection': word_2,\n",
    "                      'frequency': 1,\n",
    "                      'context': list(unit_context_vector),\n",
    "                      'update_count': 0,\n",
    "                      'lock': False}\n",
    "\n",
    "        collection.insert_one(connection)\n",
    "        return connection\n",
    "    else:\n",
    "        # print('connection {} {} is old'.format(word_1,word_2))\n",
    "        find_connection['frequency'] +=  1\n",
    "        frequecny = find_connection['frequency']\n",
    "        \n",
    "        collection.update_one({'word': word_1, 'connection': word_2},\n",
    "                              {'$set': {'frequency': frequecny}})\n",
    "        \n",
    "        return find_connection\n",
    "        \n",
    "\n",
    "\n",
    "        \n",
    "# def train_policy(target,connection_tensors,context_vector)\n",
    "        "
   ]
  },
  {
   "cell_type": "code",
   "execution_count": 50,
   "metadata": {},
   "outputs": [],
   "source": []
  },
  {
   "cell_type": "code",
   "execution_count": 130,
   "metadata": {},
   "outputs": [],
   "source": [
    "context_vector = torch.zeros(CONTEXT_DIMENSIN)"
   ]
  },
  {
   "cell_type": "code",
   "execution_count": 94,
   "metadata": {},
   "outputs": [],
   "source": [
    "#input train step , context_vector\n",
    "#output  return context_vector; updates graph \n",
    "\n",
    "#def  train_graph(context_vector,train_step,policy)\n",
    "\n",
    "train_step = ['the', 'same','bfbrbijfjbfdkjg', 'time', '.', 'I', 'am']\n",
    "\n"
   ]
  },
  {
   "cell_type": "code",
   "execution_count": 96,
   "metadata": {},
   "outputs": [
    {
     "data": {
      "text/plain": [
       "[['the', 'same'],\n",
       " ['same', 'bfbrbijfjbfdkjg'],\n",
       " ['bfbrbijfjbfdkjg', 'time'],\n",
       " ['time', '.'],\n",
       " ['.', 'I']]"
      ]
     },
     "execution_count": 96,
     "metadata": {},
     "output_type": "execute_result"
    }
   ],
   "source": [
    "context_history"
   ]
  },
  {
   "cell_type": "code",
   "execution_count": 95,
   "metadata": {},
   "outputs": [],
   "source": [
    "neighbours = get_ngram(train_step,2)\n",
    "\n",
    "context_history = neighbours[:-1]\n",
    "target = neighbours[-1]\n"
   ]
  },
  {
   "cell_type": "code",
   "execution_count": 97,
   "metadata": {
    "scrolled": true
   },
   "outputs": [
    {
     "data": {
      "text/plain": [
       "[['the', 'same'],\n",
       " ['same', 'bfbrbijfjbfdkjg'],\n",
       " ['bfbrbijfjbfdkjg', 'time'],\n",
       " ['time', '.'],\n",
       " ['.', 'I'],\n",
       " ['I', 'am']]"
      ]
     },
     "execution_count": 97,
     "metadata": {},
     "output_type": "execute_result"
    }
   ],
   "source": [
    "neighbours"
   ]
  },
  {
   "cell_type": "code",
   "execution_count": 131,
   "metadata": {},
   "outputs": [],
   "source": [
    "connection_tensors = []\n",
    "drop = torch.nn.Dropout(p=DROPOUT)\n",
    "\n",
    "\n",
    "for neighbour in context_history:\n",
    "    connection = touch_connection_db(collection,neighbour[0],neighbour[1])\n",
    "    a = torch.tensor(connection['context'])\n",
    "    a.requires_grad_(True)\n",
    "    connection_tensors.append(a)\n",
    "    \n",
    "    \n",
    "    context_step = a.add(drop(context_vector))  \n",
    "    context_vector = context_step / context_step.norm()\n",
    "\n",
    "\n",
    "    "
   ]
  },
  {
   "cell_type": "code",
   "execution_count": 61,
   "metadata": {
    "scrolled": true
   },
   "outputs": [
    {
     "data": {
      "text/html": [
       "<div>\n",
       "<style scoped>\n",
       "    .dataframe tbody tr th:only-of-type {\n",
       "        vertical-align: middle;\n",
       "    }\n",
       "\n",
       "    .dataframe tbody tr th {\n",
       "        vertical-align: top;\n",
       "    }\n",
       "\n",
       "    .dataframe thead th {\n",
       "        text-align: right;\n",
       "    }\n",
       "</style>\n",
       "<table border=\"1\" class=\"dataframe\">\n",
       "  <thead>\n",
       "    <tr style=\"text-align: right;\">\n",
       "      <th></th>\n",
       "      <th>_id</th>\n",
       "      <th>word</th>\n",
       "      <th>connection</th>\n",
       "      <th>frequency</th>\n",
       "      <th>context</th>\n",
       "      <th>update_count</th>\n",
       "      <th>lock</th>\n",
       "    </tr>\n",
       "  </thead>\n",
       "  <tbody>\n",
       "    <tr>\n",
       "      <th>0</th>\n",
       "      <td>5fbbda76facbd9ec2a50d46d</td>\n",
       "      <td>the</td>\n",
       "      <td>same</td>\n",
       "      <td>70</td>\n",
       "      <td>[0.16311784965252107, 0.014686029388431722, 0....</td>\n",
       "      <td>0</td>\n",
       "      <td>False</td>\n",
       "    </tr>\n",
       "    <tr>\n",
       "      <th>1</th>\n",
       "      <td>5fcbebd4e9b1a6829b8f211d</td>\n",
       "      <td>same</td>\n",
       "      <td>bfbrbijfjbfdkjg</td>\n",
       "      <td>2</td>\n",
       "      <td>[0.1492310776458064, 0.02960896876867876, 0.11...</td>\n",
       "      <td>0</td>\n",
       "      <td>False</td>\n",
       "    </tr>\n",
       "    <tr>\n",
       "      <th>2</th>\n",
       "      <td>5fcbebd4e9b1a6829b8f211e</td>\n",
       "      <td>bfbrbijfjbfdkjg</td>\n",
       "      <td>time</td>\n",
       "      <td>2</td>\n",
       "      <td>[0.12515113621781762, 0.1007894650149165, 0.11...</td>\n",
       "      <td>0</td>\n",
       "      <td>False</td>\n",
       "    </tr>\n",
       "    <tr>\n",
       "      <th>3</th>\n",
       "      <td>5fbbda73facbd9ec2a50d122</td>\n",
       "      <td>time</td>\n",
       "      <td>.</td>\n",
       "      <td>23</td>\n",
       "      <td>[0.04048650822585765, 0.13637792358178988, 0.0...</td>\n",
       "      <td>0</td>\n",
       "      <td>False</td>\n",
       "    </tr>\n",
       "    <tr>\n",
       "      <th>4</th>\n",
       "      <td>5fbbda6dfacbd9ec2a50c891</td>\n",
       "      <td>.</td>\n",
       "      <td>I</td>\n",
       "      <td>516</td>\n",
       "      <td>[0.17562378815657564, 0.17129966257507245, 0.0...</td>\n",
       "      <td>0</td>\n",
       "      <td>False</td>\n",
       "    </tr>\n",
       "  </tbody>\n",
       "</table>\n",
       "</div>"
      ],
      "text/plain": [
       "                        _id             word       connection  frequency  \\\n",
       "0  5fbbda76facbd9ec2a50d46d              the             same         70   \n",
       "1  5fcbebd4e9b1a6829b8f211d             same  bfbrbijfjbfdkjg          2   \n",
       "2  5fcbebd4e9b1a6829b8f211e  bfbrbijfjbfdkjg             time          2   \n",
       "3  5fbbda73facbd9ec2a50d122             time                .         23   \n",
       "4  5fbbda6dfacbd9ec2a50c891                .                I        516   \n",
       "\n",
       "                                             context  update_count   lock  \n",
       "0  [0.16311784965252107, 0.014686029388431722, 0....             0  False  \n",
       "1  [0.1492310776458064, 0.02960896876867876, 0.11...             0  False  \n",
       "2  [0.12515113621781762, 0.1007894650149165, 0.11...             0  False  \n",
       "3  [0.04048650822585765, 0.13637792358178988, 0.0...             0  False  \n",
       "4  [0.17562378815657564, 0.17129966257507245, 0.0...             0  False  "
      ]
     },
     "execution_count": 61,
     "metadata": {},
     "output_type": "execute_result"
    }
   ],
   "source": [
    "pd.DataFrame(connections)"
   ]
  },
  {
   "cell_type": "code",
   "execution_count": 100,
   "metadata": {},
   "outputs": [
    {
     "data": {
      "text/plain": [
       "tensor([0.1427, 0.1487, 0.0876, 0.1246, 0.0962, 0.1099, 0.1099, 0.0690, 0.1457,\n",
       "        0.0803, 0.0820, 0.0766, 0.1757, 0.0830, 0.0878, 0.0499, 0.0851, 0.1611,\n",
       "        0.1080, 0.0862, 0.1179, 0.0985, 0.1385, 0.0754, 0.1430, 0.1468, 0.0946,\n",
       "        0.1466, 0.0648, 0.0691, 0.0532, 0.1169, 0.0790, 0.1208, 0.0831, 0.0643,\n",
       "        0.1262, 0.1682, 0.1029, 0.0479, 0.0834, 0.1683, 0.1135, 0.1146, 0.1389,\n",
       "        0.1093, 0.1386, 0.0924, 0.0366, 0.1391, 0.1167, 0.1172, 0.1242, 0.1268,\n",
       "        0.0890, 0.1069, 0.1691, 0.0746, 0.1557, 0.0955, 0.1071, 0.1649, 0.1457,\n",
       "        0.0699, 0.1228, 0.0759, 0.1108, 0.1652, 0.1718, 0.1318, 0.1015, 0.1423,\n",
       "        0.0770, 0.1222, 0.1008], grad_fn=<DivBackward0>)"
      ]
     },
     "execution_count": 100,
     "metadata": {},
     "output_type": "execute_result"
    }
   ],
   "source": []
  },
  {
   "cell_type": "code",
   "execution_count": null,
   "metadata": {},
   "outputs": [],
   "source": []
  },
  {
   "cell_type": "code",
   "execution_count": 93,
   "metadata": {},
   "outputs": [
    {
     "data": {
      "text/plain": [
       "tensor([0.0405, 0.1364, 0.0947, 0.1449, 0.0126, 0.1900, 0.0546, 0.0091, 0.0589,\n",
       "        0.0751, 0.1579, 0.0410, 0.1579, 0.1086, 0.0256, 0.0237, 0.1342, 0.1342,\n",
       "        0.1964, 0.1890, 0.1001, 0.1292, 0.0558, 0.0787, 0.0755, 0.1482, 0.0938,\n",
       "        0.1056, 0.0015, 0.0940, 0.1344, 0.1492, 0.1757, 0.0489, 0.0841, 0.0177,\n",
       "        0.1289, 0.1227, 0.0101, 0.0311, 0.1374, 0.1959, 0.0286, 0.0846, 0.0381,\n",
       "        0.0078, 0.1853, 0.0151, 0.0287, 0.1141, 0.1562, 0.1342, 0.0821, 0.1613,\n",
       "        0.1362, 0.1961, 0.1541, 0.1680, 0.1174, 0.0996, 0.0159, 0.1255, 0.1302,\n",
       "        0.1246, 0.0441, 0.0939, 0.1062, 0.1907, 0.1838, 0.1073, 0.0182, 0.1339,\n",
       "        0.0518, 0.1450, 0.0571], requires_grad=True)"
      ]
     },
     "execution_count": 93,
     "metadata": {},
     "output_type": "execute_result"
    }
   ],
   "source": [
    "connection_tensors[3]"
   ]
  },
  {
   "cell_type": "code",
   "execution_count": 132,
   "metadata": {},
   "outputs": [
    {
     "data": {
      "text/plain": [
       "tensor([0.1552, 0.1665, 0.1860, 0.1186, 0.1331, 0.1053, 0.1383, 0.0147, 0.0033,\n",
       "        0.0132, 0.1616, 0.0443, 0.0867, 0.1352, 0.1621, 0.0957, 0.1605, 0.0719,\n",
       "        0.1689, 0.0366, 0.0852, 0.1274, 0.0336, 0.0479, 0.1496, 0.1823, 0.0099,\n",
       "        0.1274, 0.0479, 0.1370, 0.0784, 0.1727, 0.1434, 0.1295, 0.1790, 0.1243,\n",
       "        0.0511, 0.0446, 0.0124, 0.0413, 0.0688, 0.1350, 0.1553, 0.1414, 0.0032,\n",
       "        0.0874, 0.0952, 0.0162, 0.1157, 0.0571, 0.1826, 0.0584, 0.0173, 0.1055,\n",
       "        0.0166, 0.1638, 0.0380, 0.0562, 0.0789, 0.0018, 0.1514, 0.0697, 0.0878,\n",
       "        0.1454, 0.1677, 0.0562, 0.0644, 0.1791, 0.1770, 0.0842, 0.1676, 0.1537,\n",
       "        0.1346, 0.0211, 0.1851], requires_grad=True)"
      ]
     },
     "execution_count": 132,
     "metadata": {},
     "output_type": "execute_result"
    }
   ],
   "source": [
    "        \n",
    "# def train_policy(target,connection_tensors,context_vector)\n",
    "target_connection = touch_connection_db(collection,target[0],target[1])\n",
    "target_context    = torch.tensor(target_connection['context'])\n",
    "target_context.requires_grad_(True)\n",
    "\n",
    "\n",
    "primary_error  =  context_vector - target_context\n",
    "primary_loss   =  primary_error.square().sum()\n",
    "\n",
    "#decay updates for primary loss"
   ]
  },
  {
   "cell_type": "code",
   "execution_count": 157,
   "metadata": {
    "scrolled": true
   },
   "outputs": [],
   "source": [
    "#secondary error\n",
    "negative_df = pd.DataFrame(collection.find({'word':target[0]}))\n",
    "\n",
    "negative_df = negative_df.loc[negative_df['connection'] != target[1]]"
   ]
  },
  {
   "cell_type": "code",
   "execution_count": 159,
   "metadata": {},
   "outputs": [
    {
     "data": {
      "text/html": [
       "<div>\n",
       "<style scoped>\n",
       "    .dataframe tbody tr th:only-of-type {\n",
       "        vertical-align: middle;\n",
       "    }\n",
       "\n",
       "    .dataframe tbody tr th {\n",
       "        vertical-align: top;\n",
       "    }\n",
       "\n",
       "    .dataframe thead th {\n",
       "        text-align: right;\n",
       "    }\n",
       "</style>\n",
       "<table border=\"1\" class=\"dataframe\">\n",
       "  <thead>\n",
       "    <tr style=\"text-align: right;\">\n",
       "      <th></th>\n",
       "      <th>_id</th>\n",
       "      <th>word</th>\n",
       "      <th>connection</th>\n",
       "      <th>frequency</th>\n",
       "      <th>context</th>\n",
       "      <th>update_count</th>\n",
       "      <th>lock</th>\n",
       "    </tr>\n",
       "  </thead>\n",
       "  <tbody>\n",
       "    <tr>\n",
       "      <th>0</th>\n",
       "      <td>5fbbda6dfacbd9ec2a50c7d7</td>\n",
       "      <td>I</td>\n",
       "      <td>have</td>\n",
       "      <td>186</td>\n",
       "      <td>[0.08882830689974347, 0.14415558386686197, 0.1...</td>\n",
       "      <td>0</td>\n",
       "      <td>False</td>\n",
       "    </tr>\n",
       "    <tr>\n",
       "      <th>2</th>\n",
       "      <td>5fbbda6dfacbd9ec2a50c892</td>\n",
       "      <td>I</td>\n",
       "      <td>see</td>\n",
       "      <td>9</td>\n",
       "      <td>[0.13976383212153315, 0.03987152281387719, 0.1...</td>\n",
       "      <td>0</td>\n",
       "      <td>False</td>\n",
       "    </tr>\n",
       "    <tr>\n",
       "      <th>3</th>\n",
       "      <td>5fbbda6dfacbd9ec2a50c8c0</td>\n",
       "      <td>I</td>\n",
       "      <td>certainly</td>\n",
       "      <td>9</td>\n",
       "      <td>[0.11621937857300026, 0.15058498084620175, 0.1...</td>\n",
       "      <td>0</td>\n",
       "      <td>False</td>\n",
       "    </tr>\n",
       "    <tr>\n",
       "      <th>4</th>\n",
       "      <td>5fbbda6dfacbd9ec2a50c8c9</td>\n",
       "      <td>I</td>\n",
       "      <td>do</td>\n",
       "      <td>90</td>\n",
       "      <td>[0.1435549593765509, 0.06326747999969658, 0.05...</td>\n",
       "      <td>0</td>\n",
       "      <td>False</td>\n",
       "    </tr>\n",
       "    <tr>\n",
       "      <th>5</th>\n",
       "      <td>5fbbda6dfacbd9ec2a50c8fe</td>\n",
       "      <td>I</td>\n",
       "      <td>engage</td>\n",
       "      <td>1</td>\n",
       "      <td>[0.09897011481037461, 0.17128724058748915, 0.0...</td>\n",
       "      <td>0</td>\n",
       "      <td>False</td>\n",
       "    </tr>\n",
       "    <tr>\n",
       "      <th>...</th>\n",
       "      <td>...</td>\n",
       "      <td>...</td>\n",
       "      <td>...</td>\n",
       "      <td>...</td>\n",
       "      <td>...</td>\n",
       "      <td>...</td>\n",
       "      <td>...</td>\n",
       "    </tr>\n",
       "    <tr>\n",
       "      <th>246</th>\n",
       "      <td>5fbbe16bfacbd9ec2a519a0c</td>\n",
       "      <td>I</td>\n",
       "      <td>would—I</td>\n",
       "      <td>1</td>\n",
       "      <td>[0.14945976045392842, 0.013563113129674141, 0....</td>\n",
       "      <td>0</td>\n",
       "      <td>False</td>\n",
       "    </tr>\n",
       "    <tr>\n",
       "      <th>247</th>\n",
       "      <td>5fbbe173facbd9ec2a519a63</td>\n",
       "      <td>I</td>\n",
       "      <td>owe</td>\n",
       "      <td>1</td>\n",
       "      <td>[0.10655384662592263, 0.06843337303693041, 0.1...</td>\n",
       "      <td>0</td>\n",
       "      <td>False</td>\n",
       "    </tr>\n",
       "    <tr>\n",
       "      <th>248</th>\n",
       "      <td>5fbbe1a3facbd9ec2a519d00</td>\n",
       "      <td>I</td>\n",
       "      <td>roused</td>\n",
       "      <td>1</td>\n",
       "      <td>[0.10118228015851169, 0.1510900014389855, 0.08...</td>\n",
       "      <td>0</td>\n",
       "      <td>False</td>\n",
       "    </tr>\n",
       "    <tr>\n",
       "      <th>249</th>\n",
       "      <td>5fbbe1aafacbd9ec2a519d5a</td>\n",
       "      <td>I</td>\n",
       "      <td>.</td>\n",
       "      <td>1</td>\n",
       "      <td>[0.14133398971259972, 0.1504171393711338, 0.18...</td>\n",
       "      <td>0</td>\n",
       "      <td>False</td>\n",
       "    </tr>\n",
       "    <tr>\n",
       "      <th>250</th>\n",
       "      <td>5fbbe1b1facbd9ec2a519dae</td>\n",
       "      <td>I</td>\n",
       "      <td>avowed</td>\n",
       "      <td>1</td>\n",
       "      <td>[0.0604553395734722, 0.13906548196428828, 0.19...</td>\n",
       "      <td>0</td>\n",
       "      <td>False</td>\n",
       "    </tr>\n",
       "  </tbody>\n",
       "</table>\n",
       "<p>250 rows × 7 columns</p>\n",
       "</div>"
      ],
      "text/plain": [
       "                          _id word connection  frequency  \\\n",
       "0    5fbbda6dfacbd9ec2a50c7d7    I       have        186   \n",
       "2    5fbbda6dfacbd9ec2a50c892    I        see          9   \n",
       "3    5fbbda6dfacbd9ec2a50c8c0    I  certainly          9   \n",
       "4    5fbbda6dfacbd9ec2a50c8c9    I         do         90   \n",
       "5    5fbbda6dfacbd9ec2a50c8fe    I     engage          1   \n",
       "..                        ...  ...        ...        ...   \n",
       "246  5fbbe16bfacbd9ec2a519a0c    I    would—I          1   \n",
       "247  5fbbe173facbd9ec2a519a63    I        owe          1   \n",
       "248  5fbbe1a3facbd9ec2a519d00    I     roused          1   \n",
       "249  5fbbe1aafacbd9ec2a519d5a    I          .          1   \n",
       "250  5fbbe1b1facbd9ec2a519dae    I     avowed          1   \n",
       "\n",
       "                                               context  update_count   lock  \n",
       "0    [0.08882830689974347, 0.14415558386686197, 0.1...             0  False  \n",
       "2    [0.13976383212153315, 0.03987152281387719, 0.1...             0  False  \n",
       "3    [0.11621937857300026, 0.15058498084620175, 0.1...             0  False  \n",
       "4    [0.1435549593765509, 0.06326747999969658, 0.05...             0  False  \n",
       "5    [0.09897011481037461, 0.17128724058748915, 0.0...             0  False  \n",
       "..                                                 ...           ...    ...  \n",
       "246  [0.14945976045392842, 0.013563113129674141, 0....             0  False  \n",
       "247  [0.10655384662592263, 0.06843337303693041, 0.1...             0  False  \n",
       "248  [0.10118228015851169, 0.1510900014389855, 0.08...             0  False  \n",
       "249  [0.14133398971259972, 0.1504171393711338, 0.18...             0  False  \n",
       "250  [0.0604553395734722, 0.13906548196428828, 0.19...             0  False  \n",
       "\n",
       "[250 rows x 7 columns]"
      ]
     },
     "execution_count": 159,
     "metadata": {},
     "output_type": "execute_result"
    }
   ],
   "source": [
    "negative_tensors = []\n",
    "contrastive_loss = torch.zeros(CONTEXT_DIMENSIN)\n",
    "\n",
    "for negative in negative_df.iterrows():\n",
    "    connection = touch_connection_db(collection,neighbour[0],neighbour[1])\n",
    "    c = torch.tensor(connection['context'])\n",
    "    c.requires_grad_(True)\n",
    "    negative_tensors.append(c)"
   ]
  },
  {
   "cell_type": "code",
   "execution_count": 160,
   "metadata": {},
   "outputs": [
    {
     "data": {
      "text/plain": [
       "tensor([0., 0., 0., 0., 0., 0., 0., 0., 0., 0., 0., 0., 0., 0., 0., 0., 0., 0., 0., 0., 0., 0., 0., 0.,\n",
       "        0., 0., 0., 0., 0., 0., 0., 0., 0., 0., 0., 0., 0., 0., 0., 0., 0., 0., 0., 0., 0., 0., 0., 0.,\n",
       "        0., 0., 0., 0., 0., 0., 0., 0., 0., 0., 0., 0., 0., 0., 0., 0., 0., 0., 0., 0., 0., 0., 0., 0.,\n",
       "        0., 0., 0.])"
      ]
     },
     "execution_count": 160,
     "metadata": {},
     "output_type": "execute_result"
    }
   ],
   "source": [
    "contrastive_loss"
   ]
  },
  {
   "cell_type": "code",
   "execution_count": 162,
   "metadata": {},
   "outputs": [
    {
     "data": {
      "text/plain": [
       "0"
      ]
     },
     "execution_count": 162,
     "metadata": {},
     "output_type": "execute_result"
    }
   ],
   "source": [
    "target_connection['update_count']"
   ]
  },
  {
   "cell_type": "code",
   "execution_count": null,
   "metadata": {},
   "outputs": [],
   "source": []
  },
  {
   "cell_type": "code",
   "execution_count": 120,
   "metadata": {},
   "outputs": [
    {
     "data": {
      "text/plain": [
       "True"
      ]
     },
     "execution_count": 120,
     "metadata": {},
     "output_type": "execute_result"
    }
   ],
   "source": [
    "primary_loss.requires_grad"
   ]
  },
  {
   "cell_type": "code",
   "execution_count": 115,
   "metadata": {},
   "outputs": [
    {
     "data": {
      "text/plain": [
       "tensor(75.9274, grad_fn=<SumBackward0>)"
      ]
     },
     "execution_count": 115,
     "metadata": {},
     "output_type": "execute_result"
    }
   ],
   "source": [
    "primary_error.exp().sum()"
   ]
  },
  {
   "cell_type": "code",
   "execution_count": 121,
   "metadata": {},
   "outputs": [
    {
     "data": {
      "text/plain": [
       "tensor([-0.0125, -0.0178, -0.0985,  0.0060, -0.0369,  0.0045, -0.0284,  0.0543,\n",
       "         0.1424,  0.0671, -0.0797,  0.0323,  0.0890, -0.0522, -0.0743, -0.0458,\n",
       "        -0.0754,  0.0893, -0.0609,  0.0496,  0.0327, -0.0289,  0.1050,  0.0275,\n",
       "        -0.0066, -0.0356,  0.0847,  0.0192,  0.0169, -0.0679, -0.0252, -0.0558,\n",
       "        -0.0644, -0.0088, -0.0959, -0.0600,  0.0750,  0.1236,  0.0905,  0.0067,\n",
       "         0.0147,  0.0332, -0.0418, -0.0268,  0.1357,  0.0219,  0.0433,  0.0762,\n",
       "        -0.0791,  0.0820, -0.0658,  0.0588,  0.1070,  0.0213,  0.0724, -0.0569,\n",
       "         0.1311,  0.0185,  0.0768,  0.0936, -0.0443,  0.0952,  0.0579, -0.0755,\n",
       "        -0.0449,  0.0197,  0.0464, -0.0139, -0.0053,  0.0476, -0.0661, -0.0114,\n",
       "        -0.0576,  0.1011, -0.0843], grad_fn=<SubBackward0>)"
      ]
     },
     "execution_count": 121,
     "metadata": {},
     "output_type": "execute_result"
    }
   ],
   "source": [
    "primary_error"
   ]
  },
  {
   "cell_type": "code",
   "execution_count": 122,
   "metadata": {},
   "outputs": [
    {
     "data": {
      "text/plain": [
       "tensor([1.5723e-04, 3.1659e-04, 9.6964e-03, 3.5511e-05, 1.3644e-03, 2.0451e-05,\n",
       "        8.0667e-04, 2.9466e-03, 2.0280e-02, 4.4999e-03, 6.3496e-03, 1.0456e-03,\n",
       "        7.9276e-03, 2.7222e-03, 5.5155e-03, 2.0989e-03, 5.6912e-03, 7.9668e-03,\n",
       "        3.7105e-03, 2.4552e-03, 1.0702e-03, 8.3254e-04, 1.1015e-02, 7.5414e-04,\n",
       "        4.2912e-05, 1.2647e-03, 7.1816e-03, 3.6848e-04, 2.8605e-04, 4.6131e-03,\n",
       "        6.3310e-04, 3.1169e-03, 4.1490e-03, 7.6850e-05, 9.2054e-03, 3.5958e-03,\n",
       "        5.6292e-03, 1.5271e-02, 8.1883e-03, 4.4292e-05, 2.1526e-04, 1.1050e-03,\n",
       "        1.7471e-03, 7.1914e-04, 1.8414e-02, 4.8179e-04, 1.8789e-03, 5.8092e-03,\n",
       "        6.2591e-03, 6.7221e-03, 4.3328e-03, 3.4587e-03, 1.1447e-02, 4.5575e-04,\n",
       "        5.2439e-03, 3.2417e-03, 1.7185e-02, 3.4042e-04, 5.9049e-03, 8.7678e-03,\n",
       "        1.9621e-03, 9.0568e-03, 3.3501e-03, 5.7046e-03, 2.0167e-03, 3.8729e-04,\n",
       "        2.1566e-03, 1.9207e-04, 2.7696e-05, 2.2669e-03, 4.3713e-03, 1.2924e-04,\n",
       "        3.3191e-03, 1.0222e-02, 7.1144e-03], grad_fn=<PowBackward0>)"
      ]
     },
     "execution_count": 122,
     "metadata": {},
     "output_type": "execute_result"
    }
   ],
   "source": [
    "primary_error.square()"
   ]
  },
  {
   "cell_type": "code",
   "execution_count": 134,
   "metadata": {},
   "outputs": [
    {
     "data": {
      "text/plain": [
       "tensor([-0.0037, -0.0204, -0.0969,  0.0163, -0.0277,  0.0103, -0.0254,  0.0653,\n",
       "         0.1483,  0.0756, -0.0714,  0.0371,  0.0948, -0.0409, -0.1070, -0.0686,\n",
       "        -0.0787,  0.0746, -0.0456,  0.0567,  0.0445, -0.0135,  0.0960,  0.0308,\n",
       "        -0.0023, -0.0212,  0.0403,  0.0046,  0.0120, -0.0586, -0.0224, -0.0445,\n",
       "        -0.0656,  0.0013, -0.0936, -0.0480,  0.0836,  0.1329,  0.0975,  0.0173,\n",
       "        -0.0502,  0.0373, -0.0284, -0.0205,  0.0886,  0.0272,  0.0443,  0.0722,\n",
       "        -0.0777,  0.0866, -0.1381,  0.0476,  0.1112,  0.0231,  0.0445, -0.0557,\n",
       "         0.1341,  0.0035,  0.0877,  0.1000, -0.0446,  0.1058,  0.0679, -0.1421,\n",
       "        -0.0462,  0.0254,  0.0495, -0.0498,  0.0033,  0.0483, -0.0578, -0.0215,\n",
       "        -0.0516,  0.0935, -0.0872], grad_fn=<SubBackward0>)"
      ]
     },
     "execution_count": 134,
     "metadata": {},
     "output_type": "execute_result"
    }
   ],
   "source": [
    "primary_error"
   ]
  },
  {
   "cell_type": "code",
   "execution_count": 76,
   "metadata": {},
   "outputs": [],
   "source": [
    "context_vector = context_step / context_step.norm()"
   ]
  },
  {
   "cell_type": "code",
   "execution_count": 77,
   "metadata": {},
   "outputs": [
    {
     "data": {
      "text/plain": [
       "tensor([0.1492, 0.0296, 0.1179, 0.0759, 0.0245, 0.1877, 0.1798, 0.0102, 0.1365,\n",
       "        0.0696, 0.0989, 0.1063, 0.1137, 0.0059, 0.0258, 0.1058, 0.0667, 0.0737,\n",
       "        0.1806, 0.1503, 0.1469, 0.1729, 0.1744, 0.0020, 0.0853, 0.1752, 0.1665,\n",
       "        0.0766, 0.1684, 0.0246, 0.0284, 0.0395, 0.0887, 0.1384, 0.1851, 0.1806,\n",
       "        0.1560, 0.0710, 0.0847, 0.1500, 0.0111, 0.1508, 0.1756, 0.1219, 0.1134,\n",
       "        0.0387, 0.0803, 0.0446, 0.0006, 0.1294, 0.0448, 0.0398, 0.0038, 0.1344,\n",
       "        0.0607, 0.0108, 0.1739, 0.0556, 0.1854, 0.1472, 0.0628, 0.1798, 0.1516,\n",
       "        0.1881, 0.1398, 0.0346, 0.0329, 0.0387, 0.1639, 0.0347, 0.0557, 0.0007,\n",
       "        0.1042, 0.0385, 0.1798])"
      ]
     },
     "execution_count": 77,
     "metadata": {},
     "output_type": "execute_result"
    }
   ],
   "source": [
    "context_vector"
   ]
  },
  {
   "cell_type": "code",
   "execution_count": 127,
   "metadata": {},
   "outputs": [],
   "source": [
    "m = torch.nn.Dropout(p=0.1)"
   ]
  },
  {
   "cell_type": "code",
   "execution_count": 128,
   "metadata": {},
   "outputs": [
    {
     "data": {
      "text/plain": [
       "tensor([0.1585, 0.1652, 0.0973, 0.1384, 0.0000, 0.1221, 0.1221, 0.0767, 0.1619,\n",
       "        0.0892, 0.0911, 0.0851, 0.1953, 0.0922, 0.0975, 0.0554, 0.0000, 0.1790,\n",
       "        0.1200, 0.0957, 0.1310, 0.0000, 0.0000, 0.0838, 0.1589, 0.1631, 0.1052,\n",
       "        0.1628, 0.0720, 0.0768, 0.0591, 0.1299, 0.0877, 0.1342, 0.0923, 0.0715,\n",
       "        0.1402, 0.1869, 0.1143, 0.0533, 0.0927, 0.1870, 0.1261, 0.1273, 0.1543,\n",
       "        0.1215, 0.1540, 0.1027, 0.0407, 0.1546, 0.1297, 0.0000, 0.0000, 0.1409,\n",
       "        0.0989, 0.1188, 0.1879, 0.0829, 0.1730, 0.1061, 0.1190, 0.1832, 0.1619,\n",
       "        0.0776, 0.1364, 0.0843, 0.1231, 0.1836, 0.1909, 0.1465, 0.1128, 0.1581,\n",
       "        0.0855, 0.0000, 0.1120], grad_fn=<MulBackward0>)"
      ]
     },
     "execution_count": 128,
     "metadata": {},
     "output_type": "execute_result"
    }
   ],
   "source": [
    "m(context_vector)"
   ]
  },
  {
   "cell_type": "code",
   "execution_count": null,
   "metadata": {},
   "outputs": [],
   "source": [
    "context_weights = {}"
   ]
  }
 ],
 "metadata": {
  "kernelspec": {
   "display_name": "Anuvaad",
   "language": "python",
   "name": "anuvaad"
  },
  "language_info": {
   "codemirror_mode": {
    "name": "ipython",
    "version": 3
   },
   "file_extension": ".py",
   "mimetype": "text/x-python",
   "name": "python",
   "nbconvert_exporter": "python",
   "pygments_lexer": "ipython3",
   "version": "3.6.12"
  }
 },
 "nbformat": 4,
 "nbformat_minor": 4
}
