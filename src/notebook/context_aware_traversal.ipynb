{
 "cells": [
  {
   "cell_type": "code",
   "execution_count": 52,
   "metadata": {},
   "outputs": [],
   "source": [
    "import pandas as pd\n",
    "import numpy as np\n",
    "import os\n",
    "import sys\n",
    "\n",
    "sys.path.append('/'.join(os.getcwd().split('/')[:-2]))\n"
   ]
  },
  {
   "cell_type": "code",
   "execution_count": 53,
   "metadata": {},
   "outputs": [],
   "source": [
    "import config \n",
    "CONTEXT_INERTIA = 5#  conf.CONEXT_INERTIA\n",
    "DB= config.DB\n",
    "CONTEXT_DIMENSION = 128\n",
    "\n",
    "\n",
    "if DB == 'MONGO':\n",
    "    from src.utilities.graph_operations.mongodb import touch_connection_db, find_word, update_graph_context\n",
    "if DB == 'REDIS':\n",
    "    from src.utilities.graph_operations.redis import touch_connection_db, find_word, update_graph_context\n"
   ]
  },
  {
   "cell_type": "code",
   "execution_count": 54,
   "metadata": {},
   "outputs": [
    {
     "name": "stdout",
     "output_type": "stream",
     "text": [
      "REDIS\n"
     ]
    }
   ],
   "source": [
    "print(config.DB)"
   ]
  },
  {
   "cell_type": "code",
   "execution_count": null,
   "metadata": {},
   "outputs": [],
   "source": []
  },
  {
   "cell_type": "code",
   "execution_count": 55,
   "metadata": {},
   "outputs": [],
   "source": [
    "\n",
    "\n",
    "def get_input_context(text):\n",
    "    running_context = np.zeros(CONTEXT_DIMENSION)\n",
    "    words = text.split(' ')\n",
    "    connections = get_ngram(words,2)\n",
    "    for connection in connections:\n",
    "        connection_properties = touch_connection_db(connection[0],connection[1])\n",
    "        if connection_properties['update_count'] == 0:\n",
    "            print('connection is not trained,' ,connection)\n",
    "        running_context += connection_properties['context'] /CONTEXT_INERTIA\n",
    "        running_context = running_context / np.linalg.norm(running_context)\n",
    "        \n",
    "    return running_context, connection[1]\n",
    "    \n",
    "    \n",
    "    \n",
    "\n",
    "def get_node_activations(word,running_context,breadth):\n",
    "   \n",
    "    word_connections = find_word(word)\n",
    "    \n",
    "    if len(word_connections) >0 :\n",
    "\n",
    "        breadth = min(len(word_connections),breadth)\n",
    "        words, activation_socre, connection_context =  get_context_agreement(word_connections,running_context)\n",
    "       \n",
    "        #get index of max n \n",
    "        active_index = np.argpartition(activation_socre,-breadth)[-breadth:]\n",
    "        activation_socre   = [ activation_socre[i] for i in active_index]\n",
    "        connections        = [ words[i] for i in active_index]\n",
    "        connection_context = [ connection_context[i] for i in active_index]\n",
    "\n",
    "        return activation_socre,connection_context,connections \n",
    "\n",
    "    else :\n",
    "        print('graph has no connections for the word {}'.format(word))\n",
    "        return [] , [] ,[]\n",
    "    \n",
    "def get_branch_activations(text,breadth,depth) :\n",
    "    \n",
    "    running_context, origin = get_input_context(text)\n",
    "    # [['word'] ,score, running_context,  , depth]\n",
    "    response =  [[[origin] , 0 ,running_context, 0]]\n",
    "    output   = []\n",
    "    while len(response) > 0 : \n",
    "        if response[0][3] < depth:\n",
    "            shifted_origin = response[0][0][-1]\n",
    "            shited_context = response[0][2]\n",
    "            activation_score,connection_context ,connections = get_node_activations(shifted_origin,shited_context,breadth)\n",
    "            p_node = response[0].copy()\n",
    "            response.pop(0)\n",
    "            for index, connection in enumerate(connections):\n",
    "                branch  = p_node[0] + [connection]\n",
    "                context = connection_context[index]\n",
    "                score   = p_node[1] + activation_score[index]\n",
    "                level   = p_node[3] + 1\n",
    "                response.append([branch , score,context ,level])\n",
    "        else :\n",
    "            response[0][0].pop(0)\n",
    "            output.append(response[0][:-2])\n",
    "            response.pop(0)\n",
    "    #print(output)\n",
    "    return output\n",
    "\n",
    "\n",
    "\n",
    "def get_context_agreement(word_connections,running_context):\n",
    "    words = []\n",
    "    activation_socre =[]\n",
    "    connection_context =[]\n",
    "    for connection in word_connections :\n",
    "        context  = connection['context']\n",
    "        activation_socre.append(np.dot(running_context,context))\n",
    "        words.append(connection['connection'])\n",
    "        connection_context.append(enrich_context(running_context,context))\n",
    "        \n",
    "    return words, activation_socre, connection_context\n",
    "        \n",
    "\n",
    "def enrich_context(running_context,connection_context):\n",
    "    \n",
    "    enriched_context_vector  = running_context + connection_context *CONTEXT_INERTIA\n",
    "    \n",
    "    return enriched_context_vector / np.linalg.norm(enriched_context_vector)\n",
    "\n",
    "\n",
    "def get_ngram(indices, window_size=2):\n",
    "    ngrams = []\n",
    "    count = 0\n",
    "    for token in indices[:len(indices)-window_size+1]:\n",
    "        ngrams.append(indices[count:count+window_size])\n",
    "        count = count+1\n",
    "    return ngrams\n"
   ]
  },
  {
   "cell_type": "code",
   "execution_count": 56,
   "metadata": {},
   "outputs": [],
   "source": [
    "text= 'with the assistance of local'"
   ]
  },
  {
   "cell_type": "code",
   "execution_count": 57,
   "metadata": {
    "scrolled": true
   },
   "outputs": [],
   "source": [
    "depth =  1\n",
    "breadth = 10\n",
    "#text = \"the eyes don't see what the mind doesn't know\"\n",
    "ouutput = get_branch_activations(text,breadth,depth)"
   ]
  },
  {
   "cell_type": "code",
   "execution_count": 58,
   "metadata": {},
   "outputs": [
    {
     "data": {
      "text/plain": [
       "array([list(['concerts']), list(['tv']), list(['woman']), list(['bay']),\n",
       "       list(['council']), list(['arabic']), list(['economic']),\n",
       "       list(['united']), list(['baltic']), list(['reaction'])],\n",
       "      dtype=object)"
      ]
     },
     "execution_count": 58,
     "metadata": {},
     "output_type": "execute_result"
    }
   ],
   "source": [
    "output_df = pd.DataFrame(ouutput).sort_values(by=1,ascending=False)\n",
    "output_df.tail(10)[0].values"
   ]
  },
  {
   "cell_type": "code",
   "execution_count": 59,
   "metadata": {},
   "outputs": [
    {
     "data": {
      "image/png": "[encoded data removed]",
      "text/plain": [
       "<Figure size 432x288 with 1 Axes>"
      ]
     },
     "metadata": {
      "needs_background": "light"
     },
     "output_type": "display_data"
    }
   ],
   "source": [
    "ax = output_df[1].hist()"
   ]
  },
  {
   "cell_type": "code",
   "execution_count": 60,
   "metadata": {},
   "outputs": [],
   "source": [
    "depth =  5\n",
    "breadth = 2\n",
    "#text = \"the eyes don't see what the mind doesn't know\"\n",
    "ouutput = get_branch_activations(text,breadth,depth)"
   ]
  },
  {
   "cell_type": "code",
   "execution_count": 61,
   "metadata": {},
   "outputs": [
    {
     "data": {
      "text/plain": [
       "array([list(['concerts', 'and', 'ambassador', 'to', 'the']),\n",
       "       list(['concerts', 'and', 'ambassador', 'to', 'be']),\n",
       "       list(['concerts', 'he', 'made', 'post', 'but']),\n",
       "       list(['concerts', 'he', 'made', 'post', 'is']),\n",
       "       list(['concerts', 'and', 'musical', 'play', 'the']),\n",
       "       list(['concerts', 'and', 'musical', 'play', 'over']),\n",
       "       list(['concerts', 'and', 'ambassador', 'for', 'the']),\n",
       "       list(['concerts', 'and', 'ambassador', 'for', 'many']),\n",
       "       list(['concerts', 'and', 'musical', 'plays', 'outside']),\n",
       "       list(['concerts', 'and', 'musical', 'plays', 'to'])], dtype=object)"
      ]
     },
     "execution_count": 61,
     "metadata": {},
     "output_type": "execute_result"
    }
   ],
   "source": [
    "output_df = pd.DataFrame(ouutput).sort_values(by=1,ascending=False)\n",
    "output_df.tail(10)[0].values"
   ]
  },
  {
   "cell_type": "code",
   "execution_count": 51,
   "metadata": {},
   "outputs": [
    {
     "data": {
      "image/png": "[encoded data removed]",
      "text/plain": [
       "<Figure size 432x288 with 1 Axes>"
      ]
     },
     "metadata": {
      "needs_background": "light"
     },
     "output_type": "display_data"
    }
   ],
   "source": [
    "ax = output_df[1].hist()"
   ]
  },
  {
   "cell_type": "code",
   "execution_count": null,
   "metadata": {},
   "outputs": [],
   "source": []
  }
 ],
 "metadata": {
  "kernelspec": {
   "display_name": "Anuvaad",
   "language": "python",
   "name": "anuvaad"
  },
  "language_info": {
   "codemirror_mode": {
    "name": "ipython",
    "version": 3
   },
   "file_extension": ".py",
   "mimetype": "text/x-python",
   "name": "python",
   "nbconvert_exporter": "python",
   "pygments_lexer": "ipython3",
   "version": "3.6.12"
  }
 },
 "nbformat": 4,
 "nbformat_minor": 4
}
