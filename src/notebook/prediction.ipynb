{
 "cells": [
  {
   "cell_type": "code",
   "execution_count": 1,
   "metadata": {},
   "outputs": [],
   "source": [
    "import pymongo\n",
    "import pandas as pd\n",
    "import numpy as np"
   ]
  },
  {
   "cell_type": "code",
   "execution_count": 2,
   "metadata": {},
   "outputs": [],
   "source": [
    "\n",
    "myclient = pymongo.MongoClient('mongodb://localhost:27017')\n",
    "mydb = myclient[\"mydatabase\"]\n",
    "words = mydb.p_and_p\n"
   ]
  },
  {
   "cell_type": "code",
   "execution_count": 3,
   "metadata": {},
   "outputs": [],
   "source": [
    "def softmax(x):\n",
    "    \"\"\"Compute softmax values for each sets of scores in x.\"\"\"\n",
    "    e_x = np.exp(x - np.max(x))\n",
    "    return e_x / e_x.sum(axis=0)\n",
    "\n",
    "\n",
    "def get_node_activations(word,breadth,graph=words ,context=[]):\n",
    "    df  = pd.DataFrame(graph.find({'word':word}))\n",
    "    if len(df) > 0 :\n",
    "        breadth = min(len(df),breadth)\n",
    "        actication_score =  softmax(df['frequency'].values)\n",
    "        #get index of max n \n",
    "        active_index = np.argpartition(actication_score,-breadth)[-breadth:]\n",
    "        connections = list(df['connection'][active_index])\n",
    "        return actication_score, connections\n",
    "    else :\n",
    "        print(word ,'  : word not in graph')\n",
    "        return [], []\n",
    "    \n",
    "    \n",
    "def get_branch_activations(word,breadth,depth) :\n",
    "    response =  [[[word] ,0 , 0]]\n",
    "    output   = []\n",
    "    while len(response) > 0 : \n",
    "        if response[0][2] < depth:\n",
    "            activation_score ,connections = get_node_activations(response[0][0][-1],breadth)\n",
    "            p_node = response[0].copy()\n",
    "            response.pop(0)\n",
    "            for index, connection in enumerate(connections):\n",
    "                branch = p_node[0] + [connection]\n",
    "                score  = p_node[1] + activation_score[index]\n",
    "                level  = p_node[2] + 1\n",
    "                response.append([branch , score ,level])\n",
    "        else :\n",
    "            output.append(response[0][:-1])\n",
    "            response.pop(0)\n",
    "    return output"
   ]
  },
  {
   "cell_type": "code",
   "execution_count": 117,
   "metadata": {},
   "outputs": [
    {
     "data": {
      "text/plain": [
       "[[['now', 'be'], 0.9852457424535535],\n",
       " [['now', 'to'], 1.6455279595322684e-05],\n",
       " [['now', 'and'], 4.4730087506178566e-05],\n",
       " [['now', '.'], 0.00012158898405342818]]"
      ]
     },
     "execution_count": 117,
     "metadata": {},
     "output_type": "execute_result"
    }
   ],
   "source": [
    "depth =  1\n",
    "breadth = 4\n",
    "word = 'now'\n",
    "get_branch_activations(word,breadth,depth)"
   ]
  },
  {
   "cell_type": "code",
   "execution_count": 118,
   "metadata": {},
   "outputs": [
    {
     "data": {
      "text/plain": [
       "[[['now', 'be', 'the'], 1.7114113922627048],\n",
       " [['now', 'be', 'a'], 0.9852457424535536],\n",
       " [['now', 'be', 'so'], 0.9852457424809672],\n",
       " [['now', 'be', 'in'], 1.2523871559032413],\n",
       " [['now', 'to', 'his'], 1.6455279595322684e-05],\n",
       " [['now', 'to', 'her'], 1.6455279595322684e-05],\n",
       " [['now', 'to', 'the'], 1.6455279595322684e-05],\n",
       " [['now', 'to', 'be'], 1.6455279595322684e-05],\n",
       " [['now', 'and', 'her'], 4.4730087506178566e-05],\n",
       " [['now', 'and', 'the'], 4.473008750617857e-05],\n",
       " [['now', 'and', 'I'], 4.4730087506178566e-05],\n",
       " [['now', 'and', 'she'], 4.4730087506178566e-05],\n",
       " [['now', '.', 'Darcy'], 0.00012158898405342818],\n",
       " [['now', '.', 'But'], 0.00012158898405342818],\n",
       " [['now', '.', 'She'], 0.00012158898405342818],\n",
       " [['now', '.', 'I'], 0.00012158898405342818]]"
      ]
     },
     "execution_count": 118,
     "metadata": {},
     "output_type": "execute_result"
    }
   ],
   "source": [
    "depth =  2\n",
    "breadth = 4\n",
    "word = 'now'\n",
    "get_branch_activations(word,breadth,depth)"
   ]
  },
  {
   "cell_type": "code",
   "execution_count": 120,
   "metadata": {},
   "outputs": [
    {
     "data": {
      "text/plain": [
       "[[['now', 'and', 'I', 'have', 'no'], 0.9852457424535535],\n",
       " [['now', 'and', 'I', 'have', 'been'], 0.9852457424535535],\n",
       " [['now', 'and', 'I', 'am', 'not'], 1.9852457424535535],\n",
       " [['now', 'and', 'I', 'am', 'sure'], 2.9852457424532988],\n",
       " [['now', 'and', 'the', 'room', 'and'], 0.985245742453647],\n",
       " [['now', 'and', 'the', 'room', '.'], 0.985245742453647],\n",
       " [['now', 'and', 'the', 'same', '.'], 1.9852385795015017],\n",
       " [['now', 'and', 'the', 'same', 'time'], 0.985245854987922],\n",
       " [['now', '.', 'She', 'had', 'not'], 1.0000163427305453],\n",
       " [['now', '.', 'She', 'had', 'been'], 1.0000163427305453],\n",
       " [['now', '.', 'She', 'was', 'a'], 1.6455279595322762e-05],\n",
       " [['now', '.', 'She', 'was', 'not'], 1.6455279595322762e-05],\n",
       " [['now', '.', 'I', 'have', 'no'], 1.6455279595322684e-05],\n",
       " [['now', '.', 'I', 'have', 'been'], 1.6455279595322684e-05],\n",
       " [['now', '.', 'I', 'am', 'not'], 1.0000164552795954],\n",
       " [['now', '.', 'I', 'am', 'sure'], 2.000016455279341]]"
      ]
     },
     "execution_count": 120,
     "metadata": {},
     "output_type": "execute_result"
    }
   ],
   "source": [
    "depth =  4\n",
    "breadth = 2\n",
    "word = 'now'\n",
    "get_branch_activations(word,breadth,depth)"
   ]
  },
  {
   "cell_type": "code",
   "execution_count": 5,
   "metadata": {},
   "outputs": [
    {
     "data": {
      "text/plain": [
       "[[['the', 'same', 'time', '.', 'I', 'am'], 0.9999949901330827]]"
      ]
     },
     "execution_count": 5,
     "metadata": {},
     "output_type": "execute_result"
    }
   ],
   "source": [
    "depth =  5\n",
    "breadth = 1\n",
    "word = 'the'\n",
    "get_branch_activations(word,breadth,depth)"
   ]
  },
  {
   "cell_type": "code",
   "execution_count": null,
   "metadata": {},
   "outputs": [],
   "source": []
  }
 ],
 "metadata": {
  "kernelspec": {
   "display_name": "Anuvaad",
   "language": "python",
   "name": "anuvaad"
  },
  "language_info": {
   "codemirror_mode": {
    "name": "ipython",
    "version": 3
   },
   "file_extension": ".py",
   "mimetype": "text/x-python",
   "name": "python",
   "nbconvert_exporter": "python",
   "pygments_lexer": "ipython3",
   "version": "3.6.12"
  }
 },
 "nbformat": 4,
 "nbformat_minor": 4
}
