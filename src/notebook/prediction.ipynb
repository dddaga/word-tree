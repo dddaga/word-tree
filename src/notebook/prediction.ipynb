{
 "cells": [
  {
   "cell_type": "code",
   "execution_count": 1,
   "metadata": {},
   "outputs": [],
   "source": [
    "import pymongo\n",
    "import pandas as pd\n",
    "import numpy as np"
   ]
  },
  {
   "cell_type": "code",
   "execution_count": 7,
   "metadata": {},
   "outputs": [],
   "source": [
    "\n",
    "myclient = pymongo.MongoClient('mongodb://localhost:27017')\n",
    "mydb = myclient[\"mydatabase\"]\n",
    "words = mydb.p_and_p\n"
   ]
  },
  {
   "cell_type": "code",
   "execution_count": 3,
   "metadata": {},
   "outputs": [],
   "source": [
    "def softmax(x):\n",
    "    \"\"\"Compute softmax values for each sets of scores in x.\"\"\"\n",
    "    e_x = np.exp(x - np.max(x))\n",
    "    return e_x / e_x.sum(axis=0)\n",
    "\n",
    "\n",
    "def get_node_activations(word,breadth,graph=words ,context=[]):\n",
    "    df  = pd.DataFrame(graph.find({'word':word}))\n",
    "    if len(df) > 0 :\n",
    "        breadth = min(len(df),breadth)\n",
    "        actication_score =  softmax(df['frequency'].values)\n",
    "        #get index of max n \n",
    "        active_index = np.argpartition(actication_score,-breadth)[-breadth:]\n",
    "        connections = list(df['connection'][active_index])\n",
    "        return actication_score, connections\n",
    "    else :\n",
    "        print(word ,'  : word not in graph')\n",
    "        return [], []\n",
    "    \n",
    "    \n",
    "def get_branch_activations(word,breadth,depth) :\n",
    "    response =  [[[word] ,0 , 0]]\n",
    "    output   = []\n",
    "    while len(response) > 0 : \n",
    "        if response[0][2] < depth:\n",
    "            activation_score ,connections = get_node_activations(response[0][0][-1],breadth)\n",
    "            p_node = response[0].copy()\n",
    "            response.pop(0)\n",
    "            for index, connection in enumerate(connections):\n",
    "                branch = p_node[0] + [connection]\n",
    "                score  = p_node[1] + activation_score[index]\n",
    "                level  = p_node[2] + 1\n",
    "                response.append([branch , score ,level])\n",
    "        else :\n",
    "            output.append(response[0][:-1])\n",
    "            response.pop(0)\n",
    "    return output"
   ]
  },
  {
   "cell_type": "code",
   "execution_count": 6,
   "metadata": {},
   "outputs": [
    {
     "data": {
      "text/plain": [
       "[[['the', 'world', 'in', 'his'], 0.00012333446970404983],\n",
       " [['the', 'world', 'in', 'her'], 0.00012333446970404983],\n",
       " [['the', 'world', 'in', 'the'], 1.000123334469704],\n",
       " [['the', 'world', 'in', 'a'], 0.00012333446970404983],\n",
       " [['the', 'world', 'and', 'her'], 2.258949609632902e-06],\n",
       " [['the', 'world', 'and', 'the'], 2.258949609632906e-06],\n",
       " [['the', 'world', 'and', 'I'], 2.258949609632902e-06],\n",
       " [['the', 'world', 'and', 'she'], 2.258949609632902e-06],\n",
       " [['the', 'world', '.', 'Put'], 0.9993895591749191],\n",
       " [['the', 'world', '.', 'Much'], 0.9993895591749191],\n",
       " [['the', 'world', '.', 'Have'], 0.9993895591749191],\n",
       " [['the', 'world', '.', 'I'], 0.9993895591749191],\n",
       " [['the', 'world', ';', 'I'], 4.537221579190203e-05],\n",
       " [['the', 'world', ';', 'for'], 4.537221579190203e-05],\n",
       " [['the', 'world', ';', 'and'], 4.537221579190203e-05],\n",
       " [['the', 'world', ';', 'but'], 1.0000453722157918],\n",
       " [['the', 'whole', 'course', 'recommended'], 7.736985146740199e-07],\n",
       " [['the', 'whole', 'course', 'she'], 8.448338082307182e-07],\n",
       " [['the', 'whole', 'course', '.'], 0.9999936476145515],\n",
       " [['the', 'whole', 'course', 'of'], 6.876468254307565e-06],\n",
       " [['the', 'whole', 'family', 'in'], 1.0001086798356476],\n",
       " [['the', 'whole', 'family', 'and'], 0.000108682909683568],\n",
       " [['the', 'whole', 'family', 'were'], 0.00010868287704131169],\n",
       " [['the', 'whole', 'family', '.'], 0.00010868287381175149],\n",
       " [['the', 'whole', 'of', 'a'], 1.990596235701134e-06],\n",
       " [['the', 'whole', 'of', 'his'], 1.990596235701134e-06],\n",
       " [['the', 'whole', 'of', 'the'], 1.0000019905962356],\n",
       " [['the', 'whole', 'of', 'her'], 1.990596235701134e-06],\n",
       " [['the', 'whole', 'party', ';'], 0.9987033367427167],\n",
       " [['the', 'whole', 'party', 'in'], 6.868540310309204e-06],\n",
       " [['the', 'whole', 'party', 'were'], 6.868540310309204e-06],\n",
       " [['the', 'whole', 'party', '.'], 0.0009114311933749458],\n",
       " [['the', 'room', 'for', 'his'], 9.357622961410164e-14],\n",
       " [['the', 'room', 'for', 'a'], 9.357622961410164e-14],\n",
       " [['the', 'room', 'for', 'her'], 9.357622961410164e-14],\n",
       " [['the', 'room', 'for', 'the'], 9.357622961410164e-14],\n",
       " [['the', 'room', ';', 'I'], 9.357622961410164e-14],\n",
       " [['the', 'room', ';', 'for'], 9.357622961410164e-14],\n",
       " [['the', 'room', ';', 'and'], 9.357622961410164e-14],\n",
       " [['the', 'room', ';', 'but'], 1.0000000000000935],\n",
       " [['the', 'room', 'and', 'her'], 9.357622968505638e-14],\n",
       " [['the', 'room', 'and', 'the'], 9.357623348809927e-14],\n",
       " [['the', 'room', 'and', 'I'], 9.357622961410164e-14],\n",
       " [['the', 'room', 'and', 'she'], 9.357622961410164e-14],\n",
       " [['the', 'room', '.', 'Put'], 1.3887943853936907e-11],\n",
       " [['the', 'room', '.', 'Much'], 1.3887943853936907e-11],\n",
       " [['the', 'room', '.', 'Have'], 1.3887943853936907e-11],\n",
       " [['the', 'room', '.', 'I'], 1.3887943853936907e-11],\n",
       " [['the', 'same', '.', 'Put'], 0.9996574917208529],\n",
       " [['the', 'same', '.', 'Much'], 0.9996574917208529],\n",
       " [['the', 'same', '.', 'Have'], 0.9996574917208529],\n",
       " [['the', 'same', '.', 'I'], 0.9996574917208529],\n",
       " [['the', 'same', 'house', 'as'], 8.431597506664733e-07],\n",
       " [['the', 'same', 'house', 'in'], 2.0986449127905125e-06],\n",
       " [['the', 'same', 'house', 'and'], 0.1189190362184748],\n",
       " [['the', 'same', 'house', '.'], 0.0001085525185355932],\n",
       " [['the', 'same', 'bfbrbijfjbfdkjg', 'time'], 1.0000003057975464],\n",
       " [['the', 'same', 'time', 'of'], 8.315228587275403e-07],\n",
       " [['the', 'same', 'time', 'for'], 8.31249022690549e-07],\n",
       " [['the', 'same', 'time', 'to'], 8.312578014914228e-07],\n",
       " [['the', 'same', 'time', '.'], 8.312446050686867e-07]]"
      ]
     },
     "execution_count": 6,
     "metadata": {},
     "output_type": "execute_result"
    }
   ],
   "source": [
    "depth =  3\n",
    "breadth = 4\n",
    "word = 'the'\n",
    "get_branch_activations(word,breadth,depth)"
   ]
  },
  {
   "cell_type": "code",
   "execution_count": 118,
   "metadata": {},
   "outputs": [
    {
     "data": {
      "text/plain": [
       "[[['now', 'be', 'the'], 1.7114113922627048],\n",
       " [['now', 'be', 'a'], 0.9852457424535536],\n",
       " [['now', 'be', 'so'], 0.9852457424809672],\n",
       " [['now', 'be', 'in'], 1.2523871559032413],\n",
       " [['now', 'to', 'his'], 1.6455279595322684e-05],\n",
       " [['now', 'to', 'her'], 1.6455279595322684e-05],\n",
       " [['now', 'to', 'the'], 1.6455279595322684e-05],\n",
       " [['now', 'to', 'be'], 1.6455279595322684e-05],\n",
       " [['now', 'and', 'her'], 4.4730087506178566e-05],\n",
       " [['now', 'and', 'the'], 4.473008750617857e-05],\n",
       " [['now', 'and', 'I'], 4.4730087506178566e-05],\n",
       " [['now', 'and', 'she'], 4.4730087506178566e-05],\n",
       " [['now', '.', 'Darcy'], 0.00012158898405342818],\n",
       " [['now', '.', 'But'], 0.00012158898405342818],\n",
       " [['now', '.', 'She'], 0.00012158898405342818],\n",
       " [['now', '.', 'I'], 0.00012158898405342818]]"
      ]
     },
     "execution_count": 118,
     "metadata": {},
     "output_type": "execute_result"
    }
   ],
   "source": [
    "depth =  2\n",
    "breadth = 4\n",
    "word = 'now'\n",
    "get_branch_activations(word,breadth,depth)"
   ]
  },
  {
   "cell_type": "code",
   "execution_count": 120,
   "metadata": {},
   "outputs": [
    {
     "data": {
      "text/plain": [
       "[[['now', 'and', 'I', 'have', 'no'], 0.9852457424535535],\n",
       " [['now', 'and', 'I', 'have', 'been'], 0.9852457424535535],\n",
       " [['now', 'and', 'I', 'am', 'not'], 1.9852457424535535],\n",
       " [['now', 'and', 'I', 'am', 'sure'], 2.9852457424532988],\n",
       " [['now', 'and', 'the', 'room', 'and'], 0.985245742453647],\n",
       " [['now', 'and', 'the', 'room', '.'], 0.985245742453647],\n",
       " [['now', 'and', 'the', 'same', '.'], 1.9852385795015017],\n",
       " [['now', 'and', 'the', 'same', 'time'], 0.985245854987922],\n",
       " [['now', '.', 'She', 'had', 'not'], 1.0000163427305453],\n",
       " [['now', '.', 'She', 'had', 'been'], 1.0000163427305453],\n",
       " [['now', '.', 'She', 'was', 'a'], 1.6455279595322762e-05],\n",
       " [['now', '.', 'She', 'was', 'not'], 1.6455279595322762e-05],\n",
       " [['now', '.', 'I', 'have', 'no'], 1.6455279595322684e-05],\n",
       " [['now', '.', 'I', 'have', 'been'], 1.6455279595322684e-05],\n",
       " [['now', '.', 'I', 'am', 'not'], 1.0000164552795954],\n",
       " [['now', '.', 'I', 'am', 'sure'], 2.000016455279341]]"
      ]
     },
     "execution_count": 120,
     "metadata": {},
     "output_type": "execute_result"
    }
   ],
   "source": [
    "depth =  4\n",
    "breadth = 2\n",
    "word = 'now'\n",
    "get_branch_activations(word,breadth,depth)"
   ]
  },
  {
   "cell_type": "code",
   "execution_count": 5,
   "metadata": {
    "scrolled": true
   },
   "outputs": [
    {
     "data": {
      "text/plain": [
       "[[['the', 'same', 'time', '.', 'I', 'am'], 0.9999949901330827]]"
      ]
     },
     "execution_count": 5,
     "metadata": {},
     "output_type": "execute_result"
    }
   ],
   "source": [
    "depth =  5\n",
    "breadth = 1\n",
    "word = 'the'\n",
    "get_branch_activations(word,breadth,depth)"
   ]
  },
  {
   "cell_type": "code",
   "execution_count": 17,
   "metadata": {},
   "outputs": [],
   "source": [
    "import time"
   ]
  },
  {
   "cell_type": "code",
   "execution_count": 20,
   "metadata": {},
   "outputs": [
    {
     "name": "stdout",
     "output_type": "stream",
     "text": [
      "0\n",
      "1\n",
      "2\n",
      "3\n",
      "4\n",
      "5\n",
      "6\n",
      "7\n",
      "8\n",
      "9\n",
      "10\n",
      "11\n",
      "12\n",
      "13\n",
      "14\n",
      "15\n",
      "16\n",
      "17\n",
      "18\n",
      "19\n",
      "20\n",
      "21\n",
      "22\n",
      "23\n",
      "24\n",
      "25\n",
      "26\n",
      "27\n",
      "28\n",
      "29\n",
      "30\n",
      "31\n",
      "32\n",
      "33\n",
      "34\n",
      "35\n",
      "36\n",
      "37\n",
      "38\n",
      "39\n",
      "40\n",
      "41\n",
      "42\n",
      "43\n",
      "44\n",
      "45\n",
      "46\n",
      "47\n",
      "48\n",
      "49\n",
      "50\n",
      "51\n",
      "52\n",
      "53\n",
      "54\n",
      "55\n",
      "56\n",
      "57\n",
      "58\n",
      "59\n",
      "60\n",
      "61\n",
      "62\n",
      "63\n",
      "64\n",
      "65\n",
      "66\n",
      "67\n",
      "68\n",
      "69\n",
      "70\n",
      "71\n",
      "72\n",
      "73\n",
      "74\n",
      "75\n",
      "76\n",
      "77\n",
      "78\n",
      "79\n",
      "80\n",
      "81\n",
      "82\n",
      "83\n",
      "84\n",
      "85\n",
      "86\n",
      "87\n",
      "88\n",
      "89\n",
      "90\n",
      "91\n",
      "92\n",
      "93\n",
      "94\n",
      "95\n",
      "96\n",
      "97\n",
      "98\n",
      "99\n"
     ]
    }
   ],
   "source": []
  },
  {
   "cell_type": "code",
   "execution_count": null,
   "metadata": {},
   "outputs": [],
   "source": []
  }
 ],
 "metadata": {
  "kernelspec": {
   "display_name": "Anuvaad",
   "language": "python",
   "name": "anuvaad"
  },
  "language_info": {
   "codemirror_mode": {
    "name": "ipython",
    "version": 3
   },
   "file_extension": ".py",
   "mimetype": "text/x-python",
   "name": "python",
   "nbconvert_exporter": "python",
   "pygments_lexer": "ipython3",
   "version": "3.6.12"
  }
 },
 "nbformat": 4,
 "nbformat_minor": 4
}
