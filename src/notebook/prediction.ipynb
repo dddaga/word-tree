{
 "cells": [
  {
   "cell_type": "code",
   "execution_count": 1,
   "metadata": {},
   "outputs": [],
   "source": [
    "import pymongo\n",
    "import pandas as pd\n",
    "import numpy as np"
   ]
  },
  {
   "cell_type": "code",
   "execution_count": 2,
   "metadata": {},
   "outputs": [],
   "source": [
    "\n",
    "myclient = pymongo.MongoClient('mongodb://localhost:27017')\n",
    "mydb = myclient[\"mydatabase\"]\n",
    "words = mydb.p_and_p\n"
   ]
  },
  {
   "cell_type": "code",
   "execution_count": 7,
   "metadata": {},
   "outputs": [],
   "source": [
    "def softmax(x):\n",
    "    \"\"\"Compute softmax values for each sets of scores in x.\"\"\"\n",
    "    e_x = np.exp(x - np.max(x))\n",
    "    return e_x / e_x.sum(axis=0)\n",
    "\n",
    "\n",
    "def get_node_activations(word,breadth,graph=words ,context=[]):\n",
    "    df  = pd.DataFrame(graph.find({'word':word}))\n",
    "    if len(df) > 0 :\n",
    "        breadth = min(len(df),breadth)\n",
    "        actication_score =  softmax(df['frequency'].values)\n",
    "        #get index of max n \n",
    "        active_index = np.argpartition(actication_score,-breadth)[-breadth:]\n",
    "        actication_score = [ actication_score[i] for i in active_index]\n",
    "        connections = list(df['connection'][active_index])\n",
    "        return actication_score, connections\n",
    "    else :\n",
    "        print(word ,'  : word not in graph')\n",
    "        return [], []\n",
    "    \n",
    "    \n",
    "def get_branch_activations(word,breadth,depth) :\n",
    "    # [['word'] , score , depth]\n",
    "    response =  [[[word] ,0 , 0]]\n",
    "    output   = []\n",
    "    while len(response) > 0 : \n",
    "        if response[0][2] < depth:\n",
    "            activation_score ,connections = get_node_activations(response[0][0][-1],breadth)\n",
    "            p_node = response[0].copy()\n",
    "            response.pop(0)\n",
    "            for index, connection in enumerate(connections):\n",
    "                branch = p_node[0] + [connection]\n",
    "                score  = p_node[1] + activation_score[index]\n",
    "                level  = p_node[2] + 1\n",
    "                response.append([branch , score ,level])\n",
    "        else :\n",
    "            output.append(response[0][:-1])\n",
    "            response.pop(0)\n",
    "    return output"
   ]
  },
  {
   "cell_type": "code",
   "execution_count": 15,
   "metadata": {},
   "outputs": [
    {
     "data": {
      "text/plain": [
       "[[['one', '.', 'Have', 'not', 'to', 'the', 'room'], 0.0009547917732051417],\n",
       " [['one', '.', 'Have', 'not', 'to', 'the', 'same'], 1.0008578105074655],\n",
       " [['one', '.', 'Have', 'not', 'to', 'be', 'so'], 1.2680508076350259],\n",
       " [['one', '.', 'Have', 'not', 'to', 'be', 'in'], 1.7270750439944893],\n",
       " [['one', '.', 'Have', 'not', 'be', 'so', 'far'], 1.2680508076345178],\n",
       " [['one', '.', 'Have', 'not', 'be', 'so', 'much'], 2.2680508076345163],\n",
       " [['one', '.', 'Have', 'not', 'be', 'in', 'a'], 1.7270750439939806],\n",
       " [['one', '.', 'Have', 'not', 'be', 'in', 'the'], 2.7270750439939806],\n",
       " [['one', '.', 'Have', 'you', 'will', 'not', 'to'], 1.1139018986574627],\n",
       " [['one', '.', 'Have', 'you', 'will', 'not', 'be'], 2.1139018986569535],\n",
       " [['one', '.', 'Have', 'you', 'will', 'be', 'so'], 2.381041649050841],\n",
       " [['one', '.', 'Have', 'you', 'will', 'be', 'in'], 2.8400658854103042],\n",
       " [['one', '.', 'Have', 'you', 'are', 'very', 'little'], 1.9062812561481302],\n",
       " [['one', '.', 'Have', 'you', 'are', 'very', 'much'], 2.807679140591943],\n",
       " [['one', '.', 'Have', 'you', 'are', 'not', 'to'], 2.859051886044647],\n",
       " [['one', '.', 'Have', 'you', 'are', 'not', 'be'], 3.859051886044138],\n",
       " [['one', '.', 'I', 'have', 'no', 'means', 'to'], 1.0003807003357106],\n",
       " [['one', '.', 'I', 'have', 'no', 'means', 'of'], 2.000157768220467],\n",
       " [['one', '.', 'I', 'have', 'no', 'more', 'to'], 1.9995404506286711],\n",
       " [['one', '.', 'I', 'have', 'no', 'more', 'than'], 2.999540450628671],\n",
       " [['one', '.', 'I', 'have', 'been', 'a', 'few'], 2.017553151049289],\n",
       " [['one', '.', 'I', 'have', 'been', 'a', 'very'], 3.017553150838906],\n",
       " [['one', '.', 'I', 'have', 'been', 'so', 'far'], 2.9583695689407397],\n",
       " [['one', '.', 'I', 'have', 'been', 'so', 'much'], 3.9583695689407383],\n",
       " [['one', '.', 'I', 'am', 'not', 'to', 'the'], 2.000000000000509],\n",
       " [['one', '.', 'I', 'am', 'not', 'to', 'be'], 3.000000000000509],\n",
       " [['one', '.', 'I', 'am', 'not', 'be', 'so'], 3.267141413449688],\n",
       " [['one', '.', 'I', 'am', 'not', 'be', 'in'], 3.7261656498091513],\n",
       " [['one', '.', 'I', 'am', 'sure', 'you', 'will'], 3.1345812681050287],\n",
       " [['one', '.', 'I', 'am', 'sure', 'you', 'are'], 3.879732087115049],\n",
       " [['one', '.', 'I', 'am', 'sure', 'I', 'have'], 3.9801469951391883],\n",
       " [['one', '.', 'I', 'am', 'sure', 'I', 'am'], 4.980146995139188],\n",
       " [['one', 'of', 'her', 'sister', 'and', 'I', 'have'], 1.0179857761136326],\n",
       " [['one', 'of', 'her', 'sister', 'and', 'I', 'am'], 2.0179857761136324],\n",
       " [['one', 'of', 'her', 'sister', 'and', 'the', 'room'], 2.0180311737014995],\n",
       " [['one', 'of', 'her', 'sister', 'and', 'the', 'same'], 3.0179341924357597],\n",
       " [['one', 'of', 'her', 'sister', '.', 'Have', 'not'], 1.9828994968996383],\n",
       " [['one', 'of', 'her', 'sister', '.', 'Have', 'you'], 2.9792619201593036],\n",
       " [['one', 'of', 'her', 'sister', '.', 'I', 'have'], 2.981990102714555],\n",
       " [['one', 'of', 'her', 'sister', '.', 'I', 'am'], 3.981990102714555],\n",
       " [['one', 'of', 'her', '.', 'Have', 'not', 'to'], 2.0009093941853364],\n",
       " [['one', 'of', 'her', '.', 'Have', 'not', 'be'], 3.0009093941848275],\n",
       " [['one', 'of', 'her', '.', 'Have', 'you', 'will'], 3.1139010671291785],\n",
       " [['one', 'of', 'her', '.', 'Have', 'you', 'are'], 3.859051886139199],\n",
       " [['one', 'of', 'her', '.', 'I', 'have', 'no'], 2.9999999999999982],\n",
       " [['one', 'of', 'her', '.', 'I', 'have', 'been'], 3.9999999999999982],\n",
       " [['one', 'of', 'her', '.', 'I', 'am', 'not'], 4.000000000000252],\n",
       " [['one', 'of', 'her', '.', 'I', 'am', 'sure'], 4.999999999999744],\n",
       " [['one', 'of', 'the', 'room', 'and', 'I', 'have'], 2.0000453983461233],\n",
       " [['one', 'of', 'the', 'room', 'and', 'I', 'am'], 3.0000453983461233],\n",
       " [['one', 'of', 'the', 'room', 'and', 'the', 'room'], 3.0000907959339904],\n",
       " [['one', 'of', 'the', 'room', 'and', 'the', 'same'], 3.9999938146682505],\n",
       " [['one', 'of', 'the', 'room', '.', 'Have', 'not'], 3.0009547909789447],\n",
       " [['one', 'of', 'the', 'room', '.', 'Have', 'you'], 3.99731721423861],\n",
       " [['one', 'of', 'the', 'room', '.', 'I', 'have'], 4.000045396793861],\n",
       " [['one', 'of', 'the', 'room', '.', 'I', 'am'], 5.000045396793861],\n",
       " [['one', 'of', 'the', 'same', 'bfbrbijfjbfdkjg', 'time', 'to'],\n",
       "  4.000289908225887],\n",
       " [['one', 'of', 'the', 'same', 'bfbrbijfjbfdkjg', 'time', '.'],\n",
       "  5.000277617098215],\n",
       " [['one', 'of', 'the', 'same', 'time', 'to', 'the'], 3.9996120522175653],\n",
       " [['one', 'of', 'the', 'same', 'time', 'to', 'be'], 4.999612052217565],\n",
       " [['one', 'of', 'the', 'same', 'time', '.', 'Have'], 4.999599761089893],\n",
       " [['one', 'of', 'the', 'same', 'time', '.', 'I'], 5.999599761089893]]"
      ]
     },
     "execution_count": 15,
     "metadata": {},
     "output_type": "execute_result"
    }
   ],
   "source": [
    "depth =  6\n",
    "breadth = 2\n",
    "word = 'one'\n",
    "get_branch_activations(word,breadth,depth)"
   ]
  },
  {
   "cell_type": "code",
   "execution_count": 118,
   "metadata": {},
   "outputs": [
    {
     "data": {
      "text/plain": [
       "[[['now', 'be', 'the'], 1.7114113922627048],\n",
       " [['now', 'be', 'a'], 0.9852457424535536],\n",
       " [['now', 'be', 'so'], 0.9852457424809672],\n",
       " [['now', 'be', 'in'], 1.2523871559032413],\n",
       " [['now', 'to', 'his'], 1.6455279595322684e-05],\n",
       " [['now', 'to', 'her'], 1.6455279595322684e-05],\n",
       " [['now', 'to', 'the'], 1.6455279595322684e-05],\n",
       " [['now', 'to', 'be'], 1.6455279595322684e-05],\n",
       " [['now', 'and', 'her'], 4.4730087506178566e-05],\n",
       " [['now', 'and', 'the'], 4.473008750617857e-05],\n",
       " [['now', 'and', 'I'], 4.4730087506178566e-05],\n",
       " [['now', 'and', 'she'], 4.4730087506178566e-05],\n",
       " [['now', '.', 'Darcy'], 0.00012158898405342818],\n",
       " [['now', '.', 'But'], 0.00012158898405342818],\n",
       " [['now', '.', 'She'], 0.00012158898405342818],\n",
       " [['now', '.', 'I'], 0.00012158898405342818]]"
      ]
     },
     "execution_count": 118,
     "metadata": {},
     "output_type": "execute_result"
    }
   ],
   "source": [
    "depth =  2\n",
    "breadth = 4\n",
    "word = 'now'\n",
    "get_branch_activations(word,breadth,depth)"
   ]
  },
  {
   "cell_type": "code",
   "execution_count": 120,
   "metadata": {},
   "outputs": [
    {
     "data": {
      "text/plain": [
       "[[['now', 'and', 'I', 'have', 'no'], 0.9852457424535535],\n",
       " [['now', 'and', 'I', 'have', 'been'], 0.9852457424535535],\n",
       " [['now', 'and', 'I', 'am', 'not'], 1.9852457424535535],\n",
       " [['now', 'and', 'I', 'am', 'sure'], 2.9852457424532988],\n",
       " [['now', 'and', 'the', 'room', 'and'], 0.985245742453647],\n",
       " [['now', 'and', 'the', 'room', '.'], 0.985245742453647],\n",
       " [['now', 'and', 'the', 'same', '.'], 1.9852385795015017],\n",
       " [['now', 'and', 'the', 'same', 'time'], 0.985245854987922],\n",
       " [['now', '.', 'She', 'had', 'not'], 1.0000163427305453],\n",
       " [['now', '.', 'She', 'had', 'been'], 1.0000163427305453],\n",
       " [['now', '.', 'She', 'was', 'a'], 1.6455279595322762e-05],\n",
       " [['now', '.', 'She', 'was', 'not'], 1.6455279595322762e-05],\n",
       " [['now', '.', 'I', 'have', 'no'], 1.6455279595322684e-05],\n",
       " [['now', '.', 'I', 'have', 'been'], 1.6455279595322684e-05],\n",
       " [['now', '.', 'I', 'am', 'not'], 1.0000164552795954],\n",
       " [['now', '.', 'I', 'am', 'sure'], 2.000016455279341]]"
      ]
     },
     "execution_count": 120,
     "metadata": {},
     "output_type": "execute_result"
    }
   ],
   "source": [
    "depth =  4\n",
    "breadth = 2\n",
    "word = 'now'\n",
    "get_branch_activations(word,breadth,depth)"
   ]
  },
  {
   "cell_type": "code",
   "execution_count": 5,
   "metadata": {
    "scrolled": true
   },
   "outputs": [
    {
     "data": {
      "text/plain": [
       "[[['the', 'same', 'time', '.', 'I', 'am'], 0.9999949901330827]]"
      ]
     },
     "execution_count": 5,
     "metadata": {},
     "output_type": "execute_result"
    }
   ],
   "source": [
    "depth =  5\n",
    "breadth = 1\n",
    "word = 'the'\n",
    "get_branch_activations(word,breadth,depth)"
   ]
  },
  {
   "cell_type": "code",
   "execution_count": 17,
   "metadata": {},
   "outputs": [],
   "source": [
    "import time"
   ]
  },
  {
   "cell_type": "code",
   "execution_count": 20,
   "metadata": {},
   "outputs": [
    {
     "name": "stdout",
     "output_type": "stream",
     "text": [
      "0\n",
      "1\n",
      "2\n",
      "3\n",
      "4\n",
      "5\n",
      "6\n",
      "7\n",
      "8\n",
      "9\n",
      "10\n",
      "11\n",
      "12\n",
      "13\n",
      "14\n",
      "15\n",
      "16\n",
      "17\n",
      "18\n",
      "19\n",
      "20\n",
      "21\n",
      "22\n",
      "23\n",
      "24\n",
      "25\n",
      "26\n",
      "27\n",
      "28\n",
      "29\n",
      "30\n",
      "31\n",
      "32\n",
      "33\n",
      "34\n",
      "35\n",
      "36\n",
      "37\n",
      "38\n",
      "39\n",
      "40\n",
      "41\n",
      "42\n",
      "43\n",
      "44\n",
      "45\n",
      "46\n",
      "47\n",
      "48\n",
      "49\n",
      "50\n",
      "51\n",
      "52\n",
      "53\n",
      "54\n",
      "55\n",
      "56\n",
      "57\n",
      "58\n",
      "59\n",
      "60\n",
      "61\n",
      "62\n",
      "63\n",
      "64\n",
      "65\n",
      "66\n",
      "67\n",
      "68\n",
      "69\n",
      "70\n",
      "71\n",
      "72\n",
      "73\n",
      "74\n",
      "75\n",
      "76\n",
      "77\n",
      "78\n",
      "79\n",
      "80\n",
      "81\n",
      "82\n",
      "83\n",
      "84\n",
      "85\n",
      "86\n",
      "87\n",
      "88\n",
      "89\n",
      "90\n",
      "91\n",
      "92\n",
      "93\n",
      "94\n",
      "95\n",
      "96\n",
      "97\n",
      "98\n",
      "99\n"
     ]
    }
   ],
   "source": []
  },
  {
   "cell_type": "code",
   "execution_count": null,
   "metadata": {},
   "outputs": [],
   "source": []
  }
 ],
 "metadata": {
  "kernelspec": {
   "display_name": "Anuvaad",
   "language": "python",
   "name": "anuvaad"
  },
  "language_info": {
   "codemirror_mode": {
    "name": "ipython",
    "version": 3
   },
   "file_extension": ".py",
   "mimetype": "text/x-python",
   "name": "python",
   "nbconvert_exporter": "python",
   "pygments_lexer": "ipython3",
   "version": "3.6.12"
  }
 },
 "nbformat": 4,
 "nbformat_minor": 4
}
