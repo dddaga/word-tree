{
 "cells": [
  {
   "cell_type": "code",
   "execution_count": 62,
   "metadata": {},
   "outputs": [],
   "source": [
    "import redis\n",
    "import numpy as np"
   ]
  },
  {
   "cell_type": "code",
   "execution_count": 37,
   "metadata": {},
   "outputs": [],
   "source": [
    "r = redis.Redis(db=2)#(db='words')"
   ]
  },
  {
   "cell_type": "code",
   "execution_count": null,
   "metadata": {},
   "outputs": [],
   "source": []
  },
  {
   "cell_type": "code",
   "execution_count": 29,
   "metadata": {},
   "outputs": [
    {
     "ename": "ResponseError",
     "evalue": "invalid DB index",
     "output_type": "error",
     "traceback": [
      "\u001b[0;31m---------------------------------------------------------------------------\u001b[0m",
      "\u001b[0;31mResponseError\u001b[0m                             Traceback (most recent call last)",
      "\u001b[0;32m<ipython-input-29-872d15276e25>\u001b[0m in \u001b[0;36m<module>\u001b[0;34m\u001b[0m\n\u001b[0;32m----> 1\u001b[0;31m \u001b[0mr_server\u001b[0m\u001b[0;34m.\u001b[0m\u001b[0mhset\u001b[0m\u001b[0;34m(\u001b[0m\u001b[0;34m'word3'\u001b[0m\u001b[0;34m,\u001b[0m\u001b[0;36m2\u001b[0m\u001b[0;34m,\u001b[0m\u001b[0;36m3\u001b[0m\u001b[0;34m)\u001b[0m\u001b[0;34m\u001b[0m\u001b[0;34m\u001b[0m\u001b[0m\n\u001b[0m",
      "\u001b[0;32m~/py_envs/Anuvaad/lib/python3.6/site-packages/redis/client.py\u001b[0m in \u001b[0;36mhset\u001b[0;34m(self, name, key, value, mapping)\u001b[0m\n\u001b[1;32m   3048\u001b[0m                 \u001b[0mitems\u001b[0m\u001b[0;34m.\u001b[0m\u001b[0mextend\u001b[0m\u001b[0;34m(\u001b[0m\u001b[0mpair\u001b[0m\u001b[0;34m)\u001b[0m\u001b[0;34m\u001b[0m\u001b[0;34m\u001b[0m\u001b[0m\n\u001b[1;32m   3049\u001b[0m \u001b[0;34m\u001b[0m\u001b[0m\n\u001b[0;32m-> 3050\u001b[0;31m         \u001b[0;32mreturn\u001b[0m \u001b[0mself\u001b[0m\u001b[0;34m.\u001b[0m\u001b[0mexecute_command\u001b[0m\u001b[0;34m(\u001b[0m\u001b[0;34m'HSET'\u001b[0m\u001b[0;34m,\u001b[0m \u001b[0mname\u001b[0m\u001b[0;34m,\u001b[0m \u001b[0;34m*\u001b[0m\u001b[0mitems\u001b[0m\u001b[0;34m)\u001b[0m\u001b[0;34m\u001b[0m\u001b[0;34m\u001b[0m\u001b[0m\n\u001b[0m\u001b[1;32m   3051\u001b[0m \u001b[0;34m\u001b[0m\u001b[0m\n\u001b[1;32m   3052\u001b[0m     \u001b[0;32mdef\u001b[0m \u001b[0mhsetnx\u001b[0m\u001b[0;34m(\u001b[0m\u001b[0mself\u001b[0m\u001b[0;34m,\u001b[0m \u001b[0mname\u001b[0m\u001b[0;34m,\u001b[0m \u001b[0mkey\u001b[0m\u001b[0;34m,\u001b[0m \u001b[0mvalue\u001b[0m\u001b[0;34m)\u001b[0m\u001b[0;34m:\u001b[0m\u001b[0;34m\u001b[0m\u001b[0;34m\u001b[0m\u001b[0m\n",
      "\u001b[0;32m~/py_envs/Anuvaad/lib/python3.6/site-packages/redis/client.py\u001b[0m in \u001b[0;36mexecute_command\u001b[0;34m(self, *args, **options)\u001b[0m\n\u001b[1;32m    896\u001b[0m         \u001b[0mpool\u001b[0m \u001b[0;34m=\u001b[0m \u001b[0mself\u001b[0m\u001b[0;34m.\u001b[0m\u001b[0mconnection_pool\u001b[0m\u001b[0;34m\u001b[0m\u001b[0;34m\u001b[0m\u001b[0m\n\u001b[1;32m    897\u001b[0m         \u001b[0mcommand_name\u001b[0m \u001b[0;34m=\u001b[0m \u001b[0margs\u001b[0m\u001b[0;34m[\u001b[0m\u001b[0;36m0\u001b[0m\u001b[0;34m]\u001b[0m\u001b[0;34m\u001b[0m\u001b[0;34m\u001b[0m\u001b[0m\n\u001b[0;32m--> 898\u001b[0;31m         \u001b[0mconn\u001b[0m \u001b[0;34m=\u001b[0m \u001b[0mself\u001b[0m\u001b[0;34m.\u001b[0m\u001b[0mconnection\u001b[0m \u001b[0;32mor\u001b[0m \u001b[0mpool\u001b[0m\u001b[0;34m.\u001b[0m\u001b[0mget_connection\u001b[0m\u001b[0;34m(\u001b[0m\u001b[0mcommand_name\u001b[0m\u001b[0;34m,\u001b[0m \u001b[0;34m**\u001b[0m\u001b[0moptions\u001b[0m\u001b[0;34m)\u001b[0m\u001b[0;34m\u001b[0m\u001b[0;34m\u001b[0m\u001b[0m\n\u001b[0m\u001b[1;32m    899\u001b[0m         \u001b[0;32mtry\u001b[0m\u001b[0;34m:\u001b[0m\u001b[0;34m\u001b[0m\u001b[0;34m\u001b[0m\u001b[0m\n\u001b[1;32m    900\u001b[0m             \u001b[0mconn\u001b[0m\u001b[0;34m.\u001b[0m\u001b[0msend_command\u001b[0m\u001b[0;34m(\u001b[0m\u001b[0;34m*\u001b[0m\u001b[0margs\u001b[0m\u001b[0;34m)\u001b[0m\u001b[0;34m\u001b[0m\u001b[0;34m\u001b[0m\u001b[0m\n",
      "\u001b[0;32m~/py_envs/Anuvaad/lib/python3.6/site-packages/redis/connection.py\u001b[0m in \u001b[0;36mget_connection\u001b[0;34m(self, command_name, *keys, **options)\u001b[0m\n\u001b[1;32m   1190\u001b[0m         \u001b[0;32mtry\u001b[0m\u001b[0;34m:\u001b[0m\u001b[0;34m\u001b[0m\u001b[0;34m\u001b[0m\u001b[0m\n\u001b[1;32m   1191\u001b[0m             \u001b[0;31m# ensure this connection is connected to Redis\u001b[0m\u001b[0;34m\u001b[0m\u001b[0;34m\u001b[0m\u001b[0;34m\u001b[0m\u001b[0m\n\u001b[0;32m-> 1192\u001b[0;31m             \u001b[0mconnection\u001b[0m\u001b[0;34m.\u001b[0m\u001b[0mconnect\u001b[0m\u001b[0;34m(\u001b[0m\u001b[0;34m)\u001b[0m\u001b[0;34m\u001b[0m\u001b[0;34m\u001b[0m\u001b[0m\n\u001b[0m\u001b[1;32m   1193\u001b[0m             \u001b[0;31m# connections that the pool provides should be ready to send\u001b[0m\u001b[0;34m\u001b[0m\u001b[0;34m\u001b[0m\u001b[0;34m\u001b[0m\u001b[0m\n\u001b[1;32m   1194\u001b[0m             \u001b[0;31m# a command. if not, the connection was either returned to the\u001b[0m\u001b[0;34m\u001b[0m\u001b[0;34m\u001b[0m\u001b[0;34m\u001b[0m\u001b[0m\n",
      "\u001b[0;32m~/py_envs/Anuvaad/lib/python3.6/site-packages/redis/connection.py\u001b[0m in \u001b[0;36mconnect\u001b[0;34m(self)\u001b[0m\n\u001b[1;32m    565\u001b[0m         \u001b[0mself\u001b[0m\u001b[0;34m.\u001b[0m\u001b[0m_sock\u001b[0m \u001b[0;34m=\u001b[0m \u001b[0msock\u001b[0m\u001b[0;34m\u001b[0m\u001b[0;34m\u001b[0m\u001b[0m\n\u001b[1;32m    566\u001b[0m         \u001b[0;32mtry\u001b[0m\u001b[0;34m:\u001b[0m\u001b[0;34m\u001b[0m\u001b[0;34m\u001b[0m\u001b[0m\n\u001b[0;32m--> 567\u001b[0;31m             \u001b[0mself\u001b[0m\u001b[0;34m.\u001b[0m\u001b[0mon_connect\u001b[0m\u001b[0;34m(\u001b[0m\u001b[0;34m)\u001b[0m\u001b[0;34m\u001b[0m\u001b[0;34m\u001b[0m\u001b[0m\n\u001b[0m\u001b[1;32m    568\u001b[0m         \u001b[0;32mexcept\u001b[0m \u001b[0mRedisError\u001b[0m\u001b[0;34m:\u001b[0m\u001b[0;34m\u001b[0m\u001b[0;34m\u001b[0m\u001b[0m\n\u001b[1;32m    569\u001b[0m             \u001b[0;31m# clean up after any error in on_connect\u001b[0m\u001b[0;34m\u001b[0m\u001b[0;34m\u001b[0m\u001b[0;34m\u001b[0m\u001b[0m\n",
      "\u001b[0;32m~/py_envs/Anuvaad/lib/python3.6/site-packages/redis/connection.py\u001b[0m in \u001b[0;36mon_connect\u001b[0;34m(self)\u001b[0m\n\u001b[1;32m    662\u001b[0m         \u001b[0;32mif\u001b[0m \u001b[0mself\u001b[0m\u001b[0;34m.\u001b[0m\u001b[0mdb\u001b[0m\u001b[0;34m:\u001b[0m\u001b[0;34m\u001b[0m\u001b[0;34m\u001b[0m\u001b[0m\n\u001b[1;32m    663\u001b[0m             \u001b[0mself\u001b[0m\u001b[0;34m.\u001b[0m\u001b[0msend_command\u001b[0m\u001b[0;34m(\u001b[0m\u001b[0;34m'SELECT'\u001b[0m\u001b[0;34m,\u001b[0m \u001b[0mself\u001b[0m\u001b[0;34m.\u001b[0m\u001b[0mdb\u001b[0m\u001b[0;34m)\u001b[0m\u001b[0;34m\u001b[0m\u001b[0;34m\u001b[0m\u001b[0m\n\u001b[0;32m--> 664\u001b[0;31m             \u001b[0;32mif\u001b[0m \u001b[0mnativestr\u001b[0m\u001b[0;34m(\u001b[0m\u001b[0mself\u001b[0m\u001b[0;34m.\u001b[0m\u001b[0mread_response\u001b[0m\u001b[0;34m(\u001b[0m\u001b[0;34m)\u001b[0m\u001b[0;34m)\u001b[0m \u001b[0;34m!=\u001b[0m \u001b[0;34m'OK'\u001b[0m\u001b[0;34m:\u001b[0m\u001b[0;34m\u001b[0m\u001b[0;34m\u001b[0m\u001b[0m\n\u001b[0m\u001b[1;32m    665\u001b[0m                 \u001b[0;32mraise\u001b[0m \u001b[0mConnectionError\u001b[0m\u001b[0;34m(\u001b[0m\u001b[0;34m'Invalid Database'\u001b[0m\u001b[0;34m)\u001b[0m\u001b[0;34m\u001b[0m\u001b[0;34m\u001b[0m\u001b[0m\n\u001b[1;32m    666\u001b[0m \u001b[0;34m\u001b[0m\u001b[0m\n",
      "\u001b[0;32m~/py_envs/Anuvaad/lib/python3.6/site-packages/redis/connection.py\u001b[0m in \u001b[0;36mread_response\u001b[0;34m(self)\u001b[0m\n\u001b[1;32m    754\u001b[0m \u001b[0;34m\u001b[0m\u001b[0m\n\u001b[1;32m    755\u001b[0m         \u001b[0;32mif\u001b[0m \u001b[0misinstance\u001b[0m\u001b[0;34m(\u001b[0m\u001b[0mresponse\u001b[0m\u001b[0;34m,\u001b[0m \u001b[0mResponseError\u001b[0m\u001b[0;34m)\u001b[0m\u001b[0;34m:\u001b[0m\u001b[0;34m\u001b[0m\u001b[0;34m\u001b[0m\u001b[0m\n\u001b[0;32m--> 756\u001b[0;31m             \u001b[0;32mraise\u001b[0m \u001b[0mresponse\u001b[0m\u001b[0;34m\u001b[0m\u001b[0;34m\u001b[0m\u001b[0m\n\u001b[0m\u001b[1;32m    757\u001b[0m         \u001b[0;32mreturn\u001b[0m \u001b[0mresponse\u001b[0m\u001b[0;34m\u001b[0m\u001b[0;34m\u001b[0m\u001b[0m\n\u001b[1;32m    758\u001b[0m \u001b[0;34m\u001b[0m\u001b[0m\n",
      "\u001b[0;31mResponseError\u001b[0m: invalid DB index"
     ]
    }
   ],
   "source": [
    "r_server.hset('word3',2,3)"
   ]
  },
  {
   "cell_type": "code",
   "execution_count": 22,
   "metadata": {},
   "outputs": [
    {
     "ename": "TypeError",
     "evalue": "hget() missing 1 required positional argument: 'key'",
     "output_type": "error",
     "traceback": [
      "\u001b[0;31m---------------------------------------------------------------------------\u001b[0m",
      "\u001b[0;31mTypeError\u001b[0m                                 Traceback (most recent call last)",
      "\u001b[0;32m<ipython-input-22-fad14a9e7022>\u001b[0m in \u001b[0;36m<module>\u001b[0;34m\u001b[0m\n\u001b[0;32m----> 1\u001b[0;31m \u001b[0mr_server\u001b[0m\u001b[0;34m.\u001b[0m\u001b[0mhget\u001b[0m\u001b[0;34m(\u001b[0m\u001b[0;34m'word'\u001b[0m\u001b[0;34m)\u001b[0m\u001b[0;34m[\u001b[0m\u001b[0;36m0\u001b[0m\u001b[0;34m]\u001b[0m\u001b[0;34m\u001b[0m\u001b[0;34m\u001b[0m\u001b[0m\n\u001b[0m",
      "\u001b[0;31mTypeError\u001b[0m: hget() missing 1 required positional argument: 'key'"
     ]
    }
   ],
   "source": [
    "r_server.hget('word')[0]"
   ]
  },
  {
   "cell_type": "code",
   "execution_count": null,
   "metadata": {},
   "outputs": [],
   "source": []
  },
  {
   "cell_type": "code",
   "execution_count": null,
   "metadata": {},
   "outputs": [],
   "source": []
  },
  {
   "cell_type": "code",
   "execution_count": null,
   "metadata": {},
   "outputs": [],
   "source": []
  },
  {
   "cell_type": "code",
   "execution_count": 26,
   "metadata": {},
   "outputs": [],
   "source": [
    "import random\n",
    "\n",
    "random.seed(444)\n",
    "hats = {f\"hat:{random.getrandbits(32)}\": i for i in (\n",
    "    {\n",
    "        \"color\": \"black\",\n",
    "        \"price\": 49.99,\n",
    "        \"style\": \"fitted\",\n",
    "        \"quantity\": 1000,\n",
    "        \"npurchased\": 0,\n",
    "    },\n",
    "    {\n",
    "        \"color\": \"maroon\",\n",
    "        \"price\": 59.99,\n",
    "        \"style\": \"hipster\",\n",
    "        \"quantity\": 500,\n",
    "        \"npurchased\": 0,\n",
    "    },\n",
    "    {\n",
    "        \"color\": \"green\",\n",
    "        \"price\": 99.99,\n",
    "        \"style\": \"baseball\",\n",
    "        \"quantity\": 200,\n",
    "        \"npurchased\": 0,\n",
    "    })\n",
    "}"
   ]
  },
  {
   "cell_type": "code",
   "execution_count": 30,
   "metadata": {},
   "outputs": [
    {
     "data": {
      "text/plain": [
       "{'hat:1326692461': {'color': 'black',\n",
       "  'price': 49.99,\n",
       "  'style': 'fitted',\n",
       "  'quantity': 1000,\n",
       "  'npurchased': 0},\n",
       " 'hat:1236154736': {'color': 'maroon',\n",
       "  'price': 59.99,\n",
       "  'style': 'hipster',\n",
       "  'quantity': 500,\n",
       "  'npurchased': 0},\n",
       " 'hat:56854717': {'color': 'green',\n",
       "  'price': 99.99,\n",
       "  'style': 'baseball',\n",
       "  'quantity': 200,\n",
       "  'npurchased': 0}}"
      ]
     },
     "execution_count": 30,
     "metadata": {},
     "output_type": "execute_result"
    }
   ],
   "source": [
    "hats"
   ]
  },
  {
   "cell_type": "code",
   "execution_count": 27,
   "metadata": {},
   "outputs": [
    {
     "data": {
      "text/plain": [
       "{'hat:1326692461': {'color': 'black',\n",
       "  'price': 49.99,\n",
       "  'style': 'fitted',\n",
       "  'quantity': 1000,\n",
       "  'npurchased': 0},\n",
       " 'hat:1236154736': {'color': 'maroon',\n",
       "  'price': 59.99,\n",
       "  'style': 'hipster',\n",
       "  'quantity': 500,\n",
       "  'npurchased': 0},\n",
       " 'hat:56854717': {'color': 'green',\n",
       "  'price': 99.99,\n",
       "  'style': 'baseball',\n",
       "  'quantity': 200,\n",
       "  'npurchased': 0}}"
      ]
     },
     "execution_count": 27,
     "metadata": {},
     "output_type": "execute_result"
    }
   ],
   "source": [
    "hats"
   ]
  },
  {
   "cell_type": "code",
   "execution_count": 35,
   "metadata": {},
   "outputs": [
    {
     "name": "stderr",
     "output_type": "stream",
     "text": [
      "/home/dhiraj/py_envs/Anuvaad/lib/python3.6/site-packages/ipykernel_launcher.py:3: DeprecationWarning: Pipeline.hmset() is deprecated. Use Pipeline.hset() instead.\n",
      "  This is separate from the ipykernel package so we can avoid doing imports until\n"
     ]
    }
   ],
   "source": [
    "with r.pipeline() as pipe:\n",
    "    for h_id, hat in hats.items():\n",
    "         pipe.hmset(h_id, hat)\n",
    "    pipe.execute()"
   ]
  },
  {
   "cell_type": "code",
   "execution_count": 38,
   "metadata": {},
   "outputs": [
    {
     "name": "stderr",
     "output_type": "stream",
     "text": [
      "/home/dhiraj/py_envs/Anuvaad/lib/python3.6/site-packages/ipykernel_launcher.py:1: DeprecationWarning: Redis.hmset() is deprecated. Use Redis.hset() instead.\n",
      "  \"\"\"Entry point for launching an IPython kernel.\n"
     ]
    },
    {
     "data": {
      "text/plain": [
       "True"
      ]
     },
     "execution_count": 38,
     "metadata": {},
     "output_type": "execute_result"
    }
   ],
   "source": [
    "r.hmset('lol',{'LOL':'hahaha'})"
   ]
  },
  {
   "cell_type": "code",
   "execution_count": 53,
   "metadata": {},
   "outputs": [
    {
     "name": "stderr",
     "output_type": "stream",
     "text": [
      "/home/dhiraj/py_envs/Anuvaad/lib/python3.6/site-packages/ipykernel_launcher.py:1: DeprecationWarning: Redis.hmset() is deprecated. Use Redis.hset() instead.\n",
      "  \"\"\"Entry point for launching an IPython kernel.\n"
     ]
    },
    {
     "data": {
      "text/plain": [
       "True"
      ]
     },
     "execution_count": 53,
     "metadata": {},
     "output_type": "execute_result"
    }
   ],
   "source": [
    "r.hmset('lol:dol',mapping={'LOL':'hahaha'})"
   ]
  },
  {
   "cell_type": "code",
   "execution_count": 60,
   "metadata": {},
   "outputs": [
    {
     "data": {
      "text/plain": [
       "0"
      ]
     },
     "execution_count": 60,
     "metadata": {},
     "output_type": "execute_result"
    }
   ],
   "source": [
    "r.hset('lol:dol2',mapping={'LOL':'updated_eeedfdfdfgfgdfgdgrsfe'})"
   ]
  },
  {
   "cell_type": "code",
   "execution_count": 74,
   "metadata": {},
   "outputs": [
    {
     "data": {
      "text/plain": [
       "0"
      ]
     },
     "execution_count": 74,
     "metadata": {},
     "output_type": "execute_result"
    }
   ],
   "source": [
    "r.hset('lol:dol2',mapping={'LOL':'updated_eeedfdfdfgfgdfgdgrsfe','ball' :np.random.rand(234).tobytes() })"
   ]
  },
  {
   "cell_type": "code",
   "execution_count": 75,
   "metadata": {},
   "outputs": [],
   "source": [
    "a = r.hgetall('lol:dol2') "
   ]
  },
  {
   "cell_type": "code",
   "execution_count": 76,
   "metadata": {},
   "outputs": [
    {
     "data": {
      "text/plain": [
       "array([0.41229742, 0.26148028, 0.11726139, 0.9303198 , 0.57601651,\n",
       "       0.41737554, 0.04989144, 0.09139329, 0.90908551, 0.05579216,\n",
       "       0.25991957, 0.3008657 , 0.0265459 , 0.89957734, 0.17709125,\n",
       "       0.15153107, 0.73117308, 0.73389019, 0.39911306, 0.7300075 ,\n",
       "       0.96412394, 0.89529611, 0.97413469, 0.68519814, 0.00788012,\n",
       "       0.44593303, 0.2177529 , 0.58453513, 0.21681251, 0.71391742,\n",
       "       0.3391065 , 0.55844927, 0.95791411, 0.47167408, 0.96266034,\n",
       "       0.28805611, 0.48056148, 0.66264059, 0.78626568, 0.98211414,\n",
       "       0.58886821, 0.92746038, 0.43958898, 0.81086888, 0.15313062,\n",
       "       0.47246016, 0.38120674, 0.06533858, 0.83029179, 0.75584131,\n",
       "       0.43884315, 0.18599949, 0.88186752, 0.77757584, 0.40723428,\n",
       "       0.46385437, 0.47469582, 0.71301193, 0.54395264, 0.43255219,\n",
       "       0.00393471, 0.73233521, 0.92168654, 0.37130978, 0.45049223,\n",
       "       0.72621938, 0.348098  , 0.3676748 , 0.69943706, 0.62589854,\n",
       "       0.58821561, 0.17644491, 0.20062798, 0.71933748, 0.83370551,\n",
       "       0.96233651, 0.232179  , 0.28784229, 0.78318376, 0.06008135,\n",
       "       0.62238537, 0.21758739, 0.48640977, 0.44497431, 0.63924808,\n",
       "       0.03136087, 0.62314941, 0.03754951, 0.05196765, 0.39241958,\n",
       "       0.40795467, 0.2531996 , 0.41529131, 0.1159691 , 0.12159066,\n",
       "       0.11017731, 0.29175859, 0.91331566, 0.90908328, 0.37226937,\n",
       "       0.39161913, 0.01286072, 0.72781354, 0.96558124, 0.94406458,\n",
       "       0.96104391, 0.49411236, 0.06927671, 0.81273042, 0.09676267,\n",
       "       0.628264  , 0.82124395, 0.06049186, 0.90678066, 0.54580488,\n",
       "       0.31881826, 0.31174204, 0.22775801, 0.45832021, 0.56083857,\n",
       "       0.85365859, 0.69261531, 0.80671709, 0.75109312, 0.61391811,\n",
       "       0.55511254, 0.39033906, 0.27107079, 0.03302926, 0.38066924,\n",
       "       0.83883263, 0.83775828, 0.98341716, 0.76075994, 0.46684354,\n",
       "       0.23925809, 0.84878074, 0.16714334, 0.33934637, 0.08609996,\n",
       "       0.66224036, 0.67602683, 0.07587736, 0.1890784 , 0.11330686,\n",
       "       0.84718165, 0.36216242, 0.12691054, 0.8993489 , 0.54878975,\n",
       "       0.51285495, 0.56115377, 0.11227756, 0.60067043, 0.27329232,\n",
       "       0.33097344, 0.21920239, 0.06125735, 0.05209255, 0.76684332,\n",
       "       0.37494064, 0.16750548, 0.67363746, 0.63435082, 0.59930741,\n",
       "       0.62741739, 0.7455182 , 0.27486438, 0.39367954, 0.76980531,\n",
       "       0.2735696 , 0.65892513, 0.74891294, 0.87644627, 0.62452702,\n",
       "       0.83837935, 0.088913  , 0.83792704, 0.4018343 , 0.97877801,\n",
       "       0.81422646, 0.81063914, 0.25606956, 0.32843231, 0.43161365,\n",
       "       0.56398517, 0.39632817, 0.22781724, 0.6067501 , 0.73987855,\n",
       "       0.06754831, 0.68225706, 0.94053343, 0.6106173 , 0.21103907,\n",
       "       0.33001895, 0.54834984, 0.62095871, 0.34495246, 0.91397289,\n",
       "       0.90484413, 0.87957517, 0.79776489, 0.81330489, 0.12499097,\n",
       "       0.42391798, 0.21203383, 0.36405825, 0.89563575, 0.18471259,\n",
       "       0.48153128, 0.14781215, 0.37072152, 0.92037233, 0.42732504,\n",
       "       0.41555669, 0.25624954, 0.37683979, 0.80216987, 0.75237144,\n",
       "       0.19400985, 0.80506273, 0.74593336, 0.49186243, 0.69364509,\n",
       "       0.4189403 , 0.58637098, 0.14296013, 0.94032169, 0.71508393,\n",
       "       0.21836621, 0.40835252, 0.34850093, 0.8130023 ])"
      ]
     },
     "execution_count": 76,
     "metadata": {},
     "output_type": "execute_result"
    }
   ],
   "source": [
    "np.frombuffer(a[b'ball'])"
   ]
  },
  {
   "cell_type": "code",
   "execution_count": 102,
   "metadata": {},
   "outputs": [],
   "source": [
    "a = r.scan(match='lol:*')[1]"
   ]
  },
  {
   "cell_type": "code",
   "execution_count": 100,
   "metadata": {},
   "outputs": [
    {
     "data": {
      "text/plain": [
       "[b'lol:dol', b'lol:dol2']"
      ]
     },
     "execution_count": 100,
     "metadata": {},
     "output_type": "execute_result"
    }
   ],
   "source": [
    "r.scan(match='lol:*')[1]"
   ]
  },
  {
   "cell_type": "code",
   "execution_count": 109,
   "metadata": {},
   "outputs": [
    {
     "data": {
      "text/plain": [
       "'dol2'"
      ]
     },
     "execution_count": 109,
     "metadata": {},
     "output_type": "execute_result"
    }
   ],
   "source": [
    "a[1].decode(\"utf-8\").split(':')[1]"
   ]
  },
  {
   "cell_type": "code",
   "execution_count": 113,
   "metadata": {},
   "outputs": [
    {
     "data": {
      "text/plain": [
       "b'\\xcerH\\xb5\\x14c\\xda?\\xb6\\xbd\\xe3\\xca\\x17\\xbc\\xd0?\\xa0\\xc8\\x0e\\xae\\xd7\\x04\\xbe?\\xe3\\x80\\xf2\\x05.\\xc5\\xed?\\x18\\xe8C,\\xban\\xe2?\\x98h\\xef\\xe0G\\xb6\\xda?`nd\\xc5^\\x8b\\xa9?\\xc8\\x88\\x00\\x05\\x8de\\xb7?\\xf4+\\xba}:\\x17\\xed?\\x00\\xe9-g\\xca\\x90\\xac?>7J\\xb2\\x85\\xa2\\xd0?\\x8c\\xdb\\x138bA\\xd3?\\xe0u\\x95V\\xd9.\\x9b?\\x10I\\xd1iV\\xc9\\xec?\\xf0\\xda\\x10\\x1e\\xed\\xaa\\xc6?p<\\xe9\\xbb^e\\xc3?\\x01,\\x93\\x14\\xc5e\\xe7?0\\xda\\xfaF\\x07|\\xe7?\\x9cB7\\x85\\x11\\x8b\\xd9?{@\\xf2\\xae8\\\\\\xe7?\\x05\\xa5\\x81q\\x1a\\xda\\xee?\\x1d7r\\x07D\\xa6\\xec?D\\xc4\\xed\\x80\\x1c,\\xef?F\\xda\\x15\\xa7$\\xed\\xe5?@!\\xd3\\xd1s#\\x80?8\\xf5\\xcb\\xb5*\\x8a\\xdc?\\xf4\\x19\\x03\\xc2S\\xdf\\xcb?\\x03/a\\x05\\x83\\xb4\\xe2?@\\xd1\\xa5$\\x83\\xc0\\xcb?\\x88\\'\\xafVi\\xd8\\xe6?N\\xbc\\xe4\\xc2\\xeb\\xb3\\xd5?\\x84|\\xc8\\x01\\xd1\\xde\\xe1?\\x02:\\xa2{;\\xa7\\xee?V>\\x9ay\\xe8/\\xde?\\xe7\\xea\\xc7\\x10\\x1d\\xce\\xee?,ja\\xe0\\x82o\\xd2?8\\x85E\\xf2\\x84\\xc1\\xde?H\\xd0x\\x0bZ4\\xe5?\\xeeI\\x03\\xa6\\x16)\\xe9?\\x1d\\x93m\\xa1zm\\xef?s1\\xfc&\\x02\\xd8\\xe2?\\xb8gpf\\xc1\\xad\\xed?\\xc8&\\x00\\xd69\"\\xdc?5\\x14DM\\xa3\\xf2\\xe9?\\xd0\\'\\xdc\\xbe\\xc8\\x99\\xc3?JgD\\x8f\\xc9<\\xde?\\n; \\xf7\\xb0e\\xd8? e\\x01f\\x07\\xba\\xb0?\\xf3\\x92G\\x16\\xc0\\x91\\xea?y%\\xf2\\x1d\\xda/\\xe8?d\\xb05\\x8f\\x01\\x16\\xdc?\\x8cva\\xce\\xd4\\xce\\xc7?\\xc8\\'0>B8\\xec?gY6\\xb8\\xe6\\xe1\\xe8?^\\xf4\\xcaZ \\x10\\xda?\"\\x92\\x809\\xca\\xaf\\xdd?\\x9c\\x08\\x96\\x97ja\\xde?t\\x9e\\xbee\\xfe\\xd0\\xe6?\\xc4\\xdd ^\\x0fh\\xe1?\\x82\\x99\\xc9_\\xef\\xae\\xdb?\\x00\\t\\x11\\x02\\xd8\\x1dp?3\\xc6\\x91=Jo\\xe7?\\xa6\\xa3\\x0e\\xc4t~\\xed?bV\\xec\\x14\\x8a\\xc3\\xd7?F\\x04nX\\xdd\\xd4\\xdc?nB\\xc2k0=\\xe7?x[L\\xd1<G\\xd6?\\xea\\x83\\x8d\\xe5\\xfb\\x87\\xd7?\\'Jf\\xd2\\xc9a\\xe6?\\xc5Yna\\\\\\x07\\xe4?*Y\\xf8\\x8c\\xa9\\xd2\\xe2?\\xa4T6*\\xbf\\x95\\xc6?\\x84})w-\\xae\\xc9?28^\\x0b\\xd0\\x04\\xe7?\\xd0M{.\\xb7\\xad\\xea?\\xec\\xdel\\xf1u\\xcb\\xee?\\xc4\\x8f\\xd8\\x97\\n\\xb8\\xcd?r\\xec0\\x10\\x02l\\xd2?\\xe2\\xbf\\xc9d\\xd7\\x0f\\xe9?\\xa0Z\\xb6\\xbb\\xfb\\xc2\\xae?h\\xe0\\'\\xb8\\x94\\xea\\xe3?\\xbc\\xa0\\xaeV\\xe7\\xd9\\xcb?\\xd6\\x97\\xe3mV!\\xdf?*\\x08R\\x88uz\\xdc?\\xee%\\x04f\\xb8t\\xe4? e\\x12\\x10\\x88\\x0e\\xa0?\\xfb\\xe7\\x02\\x08\\xd7\\xf0\\xe3?\\xd0\\xe0\\x12\\x84\\xb09\\xa3?\\x10!Z\\x16\\x81\\x9b\\xaa?\\x84\\x88\\xf1\\x04g\\x1d\\xd9?F \\xfd\\xe4\\xed\\x1b\\xda?*\\xa1\\xa4\\x1dl4\\xd0?\\x14\\x07\\x9d\\x04\"\\x94\\xda?\\xa0z\\x96\\xa5&\\xb0\\xbd?\\xf8O\\xdd\\xb1\\x90 \\xbf?\\xe0\\x94$s\\x944\\xbc?\\xb8\\xc7\\x037,\\xac\\xd2?}\\x1f\\xf7\\xc3\\xe19\\xed?\\xeb\\x0f\\x00\\xd05\\x17\\xed?B~\\x90\\xedB\\xd3\\xd7?:\\xf5?\\xafI\\x10\\xd9?\\x00\\x02\\x0eA\\xb8V\\x8a?\\xe3F\\xd4\\x9d?J\\xe7?\\xd9\\xec\\x1a\\xa2\\n\\xe6\\xee?6\\xb8\\xe4\\xe9\\xc65\\xee?\\x0e\\xf8\\x18\\'\\xdf\\xc0\\xee?\\xfa%\\x82p\\x89\\x9f\\xdf?\\xe0\\xb5\\x01B\\x1e\\xbc\\xb1?i%j7\\xe3\\x01\\xea?P\\x81IBp\\xc5\\xb8?N\\xe1E\\x19\\xbd\\x1a\\xe4?\\xb6<\\xd8d\\xa1G\\xea?\\xb0\\x94\\x0b\\x13\\xca\\xf8\\xae?\\x01H\\x15\\xdeX\\x04\\xed?@\\xfc\\xd3\\xcd;w\\xe1?\\x80L>\\xb9\\x84g\\xd4?\\xf8\\x16\\x8f\\xe2\\x94\\xf3\\xd3?\\xf0\\x87\\x9e\\xad,\\'\\xcd?|\\xf3*O\\x1eU\\xdd?\\xa8\\xec[\\xbac\\xf2\\xe1?P\\x1f@\\xd3+Q\\xeb?rH\\x81\\x93\\xe7)\\xe6?\\x028ZZ\\xa0\\xd0\\xe9?\\x1c\\xf3\\nn\\xf4\\x08\\xe8?\\xc2b\\x91\\x957\\xa5\\xe3?Y\\x1dn]{\\xc3\\xe1?\\x187\\x95\\xafP\\xfb\\xd8?>\\xbd\\x8aJ9Y\\xd1? \\xf3?\\t6\\xe9\\xa0?6j\\r\\x87\\xe2\\\\\\xd8?-#\\xbd\\x84\\xb7\\xd7\\xea?\\xb6{/r\\xea\\xce\\xea?\\xb4r\\x7fA\\'x\\xef?e\\xac\\xe0:%X\\xe8?\\xea\\xfd\\xdf\\xbd\\xc3\\xe0\\xdd?\\xc4\\xa0\\xf5Z\\x02\\xa0\\xce?_B\\x17:6)\\xeb?\\x88\\xd5\\x9d\\xf7\\xf3d\\xc5?&\\xdc\\x83\\xd3\\xd9\\xb7\\xd5?\\xe8B\\x04\\xa3\\xa5\\n\\xb6?\\xb8Yx\\xb2\\x121\\xe5?\\x0f\\xdew\\x05\\x03\\xa2\\xe5?\\x10\\x9a\\xd5\\xdb\\xb2l\\xb3?\\xa0\\xc1\\xdb\\x93\\xb83\\xc8?\\x10\\x7f\\x91\\xac\\xad\\x01\\xbd?\\xfc\\xa4\\x1d\\xaf\\x1c\\x1c\\xeb?J\\x05\\xb2F\\xab-\\xd7?,\\xe2\\x89\\xc6\\x9a>\\xc0?\\xdb\\xc2\\x15Yw\\xc7\\xec?\\xbb\\x8d\\xce\\x85\\xaf\\x8f\\xe1?\\t\\xe8\\xb1\\xc9Ni\\xe0?N\\xe8\\xd4\\xbd\\xf8\\xf4\\xe1?\\x88\\xe2\\x14\\xde8\\xbe\\xbc?\\x01\\x01+4\\xb18\\xe3?\"\\xb60\\x15\\x9f}\\xd1?.m\\xb7<\\xab.\\xd5?\\x80\\xe8\\xa4\\xe3\\xd2\\x0e\\xcc?\\xc0?\\xf6\\x85\\x1f]\\xaf?\\x90~S\\x0e\\xe0\\xab\\xaa?\\xc4\\xa2\\x01\\x03\\xfb\\x89\\xe8?^<\\x06\\x0c\\x07\\xff\\xd7? Y\\xb6\\xd9\\xd1p\\xc5?\\x08sr#p\\x8e\\xe5?\\x00\\xde\\xb3\\x18\\x9aL\\xe4?\\x90\\xd7p\\xbe\\x86-\\xe3?*\\xae\\x9b\\xa0\\xcd\\x13\\xe4?.\\x8b\\xfd\\xfbH\\xdb\\xe7?\\xfa\\x9a\\xa4\\xbf`\\x97\\xd1?fq\\xfb\\xae\\x0b2\\xd9?\\x04\\x8d3\\xbf>\\xa2\\xe8?j`\\xff\\x14*\\x82\\xd1?\\xaa>\\xea&\\xea\\x15\\xe5?{\\xd6\\xc9G\\x18\\xf7\\xe7?\\x03US\\x0b\\xd9\\x0b\\xec?\\xdc\\xbeY\\x19 \\xfc\\xe3?<$+\\xef\\x00\\xd4\\xea?\\x80\\xee\\xbe\\xa0\\x00\\xc3\\xb6?`\\x89I]L\\xd0\\xea?:k\\x114\\xa7\\xb7\\xd9?]7\\xb2A&R\\xef?\\xafE\\xb6\\xa4$\\x0e\\xea?sn\\xb5|\\xc1\\xf0\\xe9?`\\x8c\\xb2\\x90qc\\xd0?^\\x97\\xc6\\xf5\\x08\\x05\\xd5?(\\x8d\\x0e\\xdd\\x8e\\x9f\\xdb?^\\x96\\x15\\xa3*\\x0c\\xe2?z,f\\xd3p]\\xd9?\\xfc\\t\\x1b\\x85\\x1d)\\xcd?\\xf9\\x1b4.\\x7fj\\xe3?/\\xd3W\\xc7\\x15\\xad\\xe7?0\\x88\\n\\xa2\\xd8J\\xb1?!g\\xd0\\xc3\\x0c\\xd5\\xe5?\\x95\\'_\\x8f\\xd9\\x18\\xee?\\xa4\\x184H-\\x8a\\xe3?\\xe0\\x90\\xbc\\rT\\x03\\xcb?\\x9c\\xa3\\xcd\\xd0\\x07\\x1f\\xd5?\\xfa\\xa2\\x01\\xf7\\x14\\x8c\\xe1?\\x0b\\x8eh\\xce\\xe4\\xde\\xe3?>\\xc3[y\\xb3\\x13\\xd6?E?f\\x12D?\\xed?]\\xb8{\\xad{\\xf4\\xec?\\xf1\\xb8@\\xd4z%\\xec?*\\xa7\\xfd;J\\x87\\xe9?\\xc9X@\\xfc\\x97\\x06\\xea? \\xd3\\xeb\\x89h\\xff\\xbf?\\xea*\\xb7\\xddx!\\xdb?\\x88\\x02&\\xb6\\xec#\\xcb?\\x16a\\xab\\xf4\\xbaL\\xd7?\\x92\\xa9gM\\x0c\\xa9\\xec?(\\x10\\xf5\\x81\\xa9\\xa4\\xc7?\\x96\\x11A\\x90h\\xd1\\xde?D\\x05-7\\x82\\xeb\\xc2?\\xe2\\xb7\\xc0\\xbe\\xe6\\xb9\\xd7?q\\xdf_\\xad\\xb0s\\xed?\\x90\\xf9\\x1d\\x1fKY\\xdb?\\xda3\\xcb\\x12{\\x98\\xda?\\xd4JZvdf\\xd0?N\\xc7\\xfb\\xa7$\\x1e\\xd8?ME1%`\\xab\\xe9?\\xf0j0Fm\\x13\\xe8?d\\x82\\x9f\\x9bP\\xd5\\xc8?\\xf9\\x84\\xb7\\xec\\x12\\xc3\\xe9?\\x95\\x8a\\xfc\\xa0\\xaf\\xde\\xe7?\\xba$v\\x8d\\xacz\\xdf?\\x81*\\x960W2\\xe6?\\xec\\x93\\x82\\xfb\\xea\\xcf\\xda?\\xb8\\x9a\\xfd\\x10\\x8d\\xc3\\xe2?\\xe0\\x80\\xa2\\x7f\\x84L\\xc2?6\\xffg\\x85\\x1d\\x17\\xee?\\xc8\\x1b5\\xb4\\xf7\\xe1\\xe6?\\x00\\xedt\\x8el\\xf3\\xcb?~\\x04\\xf3\\x96r\"\\xda?@\\xd5\\xb3\\xd9\\xd6M\\xd6?\\xd8\\xecBd\\x1d\\x04\\xea?'"
      ]
     },
     "execution_count": 113,
     "metadata": {},
     "output_type": "execute_result"
    }
   ],
   "source": [
    "r.hgetall(a[1])[b'ball']"
   ]
  },
  {
   "cell_type": "code",
   "execution_count": 114,
   "metadata": {},
   "outputs": [],
   "source": [
    "l = [2,535,353,5,3,53,5,35,3,53,5,3,53,5,3,53,5]"
   ]
  },
  {
   "cell_type": "code",
   "execution_count": 167,
   "metadata": {},
   "outputs": [
    {
     "data": {
      "text/plain": [
       "[3, 53, 5, 3, 3, 2, 5, 5, 353, 3, 35, 5, 535, 53, 53, 5, 53]"
      ]
     },
     "execution_count": 167,
     "metadata": {},
     "output_type": "execute_result"
    }
   ],
   "source": [
    "random.sample(l,17)"
   ]
  },
  {
   "cell_type": "code",
   "execution_count": 139,
   "metadata": {},
   "outputs": [
    {
     "data": {
      "text/plain": [
       "17"
      ]
     },
     "execution_count": 139,
     "metadata": {},
     "output_type": "execute_result"
    }
   ],
   "source": [
    "len(l)"
   ]
  },
  {
   "cell_type": "code",
   "execution_count": null,
   "metadata": {},
   "outputs": [],
   "source": []
  }
 ],
 "metadata": {
  "kernelspec": {
   "display_name": "Anuvaad",
   "language": "python",
   "name": "anuvaad"
  },
  "language_info": {
   "codemirror_mode": {
    "name": "ipython",
    "version": 3
   },
   "file_extension": ".py",
   "mimetype": "text/x-python",
   "name": "python",
   "nbconvert_exporter": "python",
   "pygments_lexer": "ipython3",
   "version": "3.6.12"
  }
 },
 "nbformat": 4,
 "nbformat_minor": 4
}
